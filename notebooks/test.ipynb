{
 "cells": [
  {
   "cell_type": "code",
   "execution_count": 125,
   "id": "f472dc54-986a-4ae1-99fb-cba815847d38",
   "metadata": {},
   "outputs": [],
   "source": [
    "import pandas as pd\n",
    "import numpy as np\n",
    "from statsmodels.tsa.seasonal import STL\n",
    "from scipy.stats import mstats"
   ]
  },
  {
   "cell_type": "code",
   "execution_count": 27,
   "id": "1e787a69-83b6-48b6-9c09-b48a2ec92137",
   "metadata": {},
   "outputs": [],
   "source": [
    "df = pd.read_csv('../data/01_raw/shipments.csv')\n",
    "df['time_var'] = pd.to_datetime(df['time_var'])"
   ]
  },
  {
   "cell_type": "code",
   "execution_count": 28,
   "id": "309d62b7-9422-44ae-aef2-f788263376c1",
   "metadata": {},
   "outputs": [],
   "source": [
    "min_date = df['time_var'].min()\n",
    "max_date = df['time_var'].max()"
   ]
  },
  {
   "cell_type": "code",
   "execution_count": 29,
   "id": "d5d04513-508d-48a0-a061-5c8f24a26997",
   "metadata": {},
   "outputs": [
    {
     "data": {
      "text/html": [
       "<div>\n",
       "<style scoped>\n",
       "    .dataframe tbody tr th:only-of-type {\n",
       "        vertical-align: middle;\n",
       "    }\n",
       "\n",
       "    .dataframe tbody tr th {\n",
       "        vertical-align: top;\n",
       "    }\n",
       "\n",
       "    .dataframe thead th {\n",
       "        text-align: right;\n",
       "    }\n",
       "</style>\n",
       "<table border=\"1\" class=\"dataframe\">\n",
       "  <thead>\n",
       "    <tr style=\"text-align: right;\">\n",
       "      <th></th>\n",
       "      <th>prod_code</th>\n",
       "      <th>customer</th>\n",
       "      <th>location</th>\n",
       "      <th>category</th>\n",
       "      <th>time_var</th>\n",
       "      <th>shipments</th>\n",
       "    </tr>\n",
       "  </thead>\n",
       "  <tbody>\n",
       "    <tr>\n",
       "      <th>0</th>\n",
       "      <td>8684_05</td>\n",
       "      <td>ALDI</td>\n",
       "      <td>sansebastian</td>\n",
       "      <td>snack</td>\n",
       "      <td>2022-09-26 00:00:00+00:00</td>\n",
       "      <td>0</td>\n",
       "    </tr>\n",
       "    <tr>\n",
       "      <th>1</th>\n",
       "      <td>8684_05</td>\n",
       "      <td>ALDI</td>\n",
       "      <td>sansebastian</td>\n",
       "      <td>snack</td>\n",
       "      <td>2022-12-26 00:00:00+00:00</td>\n",
       "      <td>0</td>\n",
       "    </tr>\n",
       "    <tr>\n",
       "      <th>2</th>\n",
       "      <td>8684_05</td>\n",
       "      <td>ALDI</td>\n",
       "      <td>sansebastian</td>\n",
       "      <td>snack</td>\n",
       "      <td>2023-04-03 00:00:00+00:00</td>\n",
       "      <td>0</td>\n",
       "    </tr>\n",
       "    <tr>\n",
       "      <th>3</th>\n",
       "      <td>8684_05</td>\n",
       "      <td>ALDI</td>\n",
       "      <td>sansebastian</td>\n",
       "      <td>snack</td>\n",
       "      <td>2021-04-12 00:00:00+00:00</td>\n",
       "      <td>0</td>\n",
       "    </tr>\n",
       "    <tr>\n",
       "      <th>4</th>\n",
       "      <td>8684_05</td>\n",
       "      <td>ALDI</td>\n",
       "      <td>sansebastian</td>\n",
       "      <td>snack</td>\n",
       "      <td>2021-11-22 00:00:00+00:00</td>\n",
       "      <td>0</td>\n",
       "    </tr>\n",
       "    <tr>\n",
       "      <th>...</th>\n",
       "      <td>...</td>\n",
       "      <td>...</td>\n",
       "      <td>...</td>\n",
       "      <td>...</td>\n",
       "      <td>...</td>\n",
       "      <td>...</td>\n",
       "    </tr>\n",
       "    <tr>\n",
       "      <th>5348</th>\n",
       "      <td>7196_04</td>\n",
       "      <td>aldi</td>\n",
       "      <td>Vitoria</td>\n",
       "      <td>beverage</td>\n",
       "      <td>2022-10-03 00:00:00+00:00</td>\n",
       "      <td>212741</td>\n",
       "    </tr>\n",
       "    <tr>\n",
       "      <th>5349</th>\n",
       "      <td>7196_04</td>\n",
       "      <td>aldi</td>\n",
       "      <td>Vitoria</td>\n",
       "      <td>beverage</td>\n",
       "      <td>2021-08-02 00:00:00+00:00</td>\n",
       "      <td>324769</td>\n",
       "    </tr>\n",
       "    <tr>\n",
       "      <th>5350</th>\n",
       "      <td>7196_04</td>\n",
       "      <td>aldi</td>\n",
       "      <td>Vitoria</td>\n",
       "      <td>beverage</td>\n",
       "      <td>2023-03-20 00:00:00+00:00</td>\n",
       "      <td>1334340</td>\n",
       "    </tr>\n",
       "    <tr>\n",
       "      <th>5351</th>\n",
       "      <td>7196_04</td>\n",
       "      <td>aldi</td>\n",
       "      <td>Vitoria</td>\n",
       "      <td>beverage</td>\n",
       "      <td>2020-11-16 00:00:00+00:00</td>\n",
       "      <td>75818</td>\n",
       "    </tr>\n",
       "    <tr>\n",
       "      <th>5352</th>\n",
       "      <td>7196_04</td>\n",
       "      <td>aldi</td>\n",
       "      <td>Vitoria</td>\n",
       "      <td>beverage</td>\n",
       "      <td>2021-02-22 00:00:00+00:00</td>\n",
       "      <td>186903</td>\n",
       "    </tr>\n",
       "  </tbody>\n",
       "</table>\n",
       "<p>5353 rows × 6 columns</p>\n",
       "</div>"
      ],
      "text/plain": [
       "     prod_code customer      location  category                  time_var  \\\n",
       "0      8684_05     ALDI  sansebastian     snack 2022-09-26 00:00:00+00:00   \n",
       "1      8684_05     ALDI  sansebastian     snack 2022-12-26 00:00:00+00:00   \n",
       "2      8684_05     ALDI  sansebastian     snack 2023-04-03 00:00:00+00:00   \n",
       "3      8684_05     ALDI  sansebastian     snack 2021-04-12 00:00:00+00:00   \n",
       "4      8684_05     ALDI  sansebastian     snack 2021-11-22 00:00:00+00:00   \n",
       "...        ...      ...           ...       ...                       ...   \n",
       "5348   7196_04     aldi       Vitoria  beverage 2022-10-03 00:00:00+00:00   \n",
       "5349   7196_04     aldi       Vitoria  beverage 2021-08-02 00:00:00+00:00   \n",
       "5350   7196_04     aldi       Vitoria  beverage 2023-03-20 00:00:00+00:00   \n",
       "5351   7196_04     aldi       Vitoria  beverage 2020-11-16 00:00:00+00:00   \n",
       "5352   7196_04     aldi       Vitoria  beverage 2021-02-22 00:00:00+00:00   \n",
       "\n",
       "      shipments  \n",
       "0             0  \n",
       "1             0  \n",
       "2             0  \n",
       "3             0  \n",
       "4             0  \n",
       "...         ...  \n",
       "5348     212741  \n",
       "5349     324769  \n",
       "5350    1334340  \n",
       "5351      75818  \n",
       "5352     186903  \n",
       "\n",
       "[5353 rows x 6 columns]"
      ]
     },
     "execution_count": 29,
     "metadata": {},
     "output_type": "execute_result"
    }
   ],
   "source": [
    "df"
   ]
  },
  {
   "cell_type": "code",
   "execution_count": 30,
   "id": "e944ca6e-c383-4d14-931f-797f4b21c978",
   "metadata": {},
   "outputs": [],
   "source": [
    "df = (df\n",
    "      .sort_values('time_var')\n",
    "      .set_index('time_var')\n",
    "      .groupby(['prod_code', 'customer', 'location', 'category'])\n",
    "      ['shipments']\n",
    "      .apply(lambda x: \n",
    "             x.reindex(\n",
    "                 pd.date_range(min_date, \n",
    "                               max_date, \n",
    "                               freq='W-MON'\n",
    "                              ),\n",
    "                 method='nearest'\n",
    "             )\n",
    "       )\n",
    "      .reset_index()\n",
    "      .rename(columns={'level_4': 'time_var'})\n",
    "     )"
   ]
  },
  {
   "cell_type": "code",
   "execution_count": 31,
   "id": "c00a1305-3df3-496f-9c3f-0acfeca01e36",
   "metadata": {},
   "outputs": [
    {
     "data": {
      "text/html": [
       "<div>\n",
       "<style scoped>\n",
       "    .dataframe tbody tr th:only-of-type {\n",
       "        vertical-align: middle;\n",
       "    }\n",
       "\n",
       "    .dataframe tbody tr th {\n",
       "        vertical-align: top;\n",
       "    }\n",
       "\n",
       "    .dataframe thead th {\n",
       "        text-align: right;\n",
       "    }\n",
       "</style>\n",
       "<table border=\"1\" class=\"dataframe\">\n",
       "  <thead>\n",
       "    <tr style=\"text-align: right;\">\n",
       "      <th></th>\n",
       "      <th>prod_code</th>\n",
       "      <th>customer</th>\n",
       "      <th>location</th>\n",
       "      <th>category</th>\n",
       "      <th>time_var</th>\n",
       "      <th>shipments</th>\n",
       "    </tr>\n",
       "  </thead>\n",
       "  <tbody>\n",
       "    <tr>\n",
       "      <th>0</th>\n",
       "      <td>1424_01</td>\n",
       "      <td>lidl</td>\n",
       "      <td>bilbao</td>\n",
       "      <td>snack</td>\n",
       "      <td>2020-10-19 00:00:00+00:00</td>\n",
       "      <td>339919</td>\n",
       "    </tr>\n",
       "    <tr>\n",
       "      <th>1</th>\n",
       "      <td>1424_01</td>\n",
       "      <td>lidl</td>\n",
       "      <td>bilbao</td>\n",
       "      <td>snack</td>\n",
       "      <td>2020-10-26 00:00:00+00:00</td>\n",
       "      <td>432396</td>\n",
       "    </tr>\n",
       "    <tr>\n",
       "      <th>2</th>\n",
       "      <td>1424_01</td>\n",
       "      <td>lidl</td>\n",
       "      <td>bilbao</td>\n",
       "      <td>snack</td>\n",
       "      <td>2020-11-02 00:00:00+00:00</td>\n",
       "      <td>361797</td>\n",
       "    </tr>\n",
       "    <tr>\n",
       "      <th>3</th>\n",
       "      <td>1424_01</td>\n",
       "      <td>lidl</td>\n",
       "      <td>bilbao</td>\n",
       "      <td>snack</td>\n",
       "      <td>2020-11-09 00:00:00+00:00</td>\n",
       "      <td>369954</td>\n",
       "    </tr>\n",
       "    <tr>\n",
       "      <th>4</th>\n",
       "      <td>1424_01</td>\n",
       "      <td>lidl</td>\n",
       "      <td>bilbao</td>\n",
       "      <td>snack</td>\n",
       "      <td>2020-11-16 00:00:00+00:00</td>\n",
       "      <td>413049</td>\n",
       "    </tr>\n",
       "    <tr>\n",
       "      <th>...</th>\n",
       "      <td>...</td>\n",
       "      <td>...</td>\n",
       "      <td>...</td>\n",
       "      <td>...</td>\n",
       "      <td>...</td>\n",
       "      <td>...</td>\n",
       "    </tr>\n",
       "    <tr>\n",
       "      <th>5611</th>\n",
       "      <td>9876_02</td>\n",
       "      <td>bm</td>\n",
       "      <td>bilbao</td>\n",
       "      <td>juice</td>\n",
       "      <td>2023-09-11 00:00:00+00:00</td>\n",
       "      <td>272527</td>\n",
       "    </tr>\n",
       "    <tr>\n",
       "      <th>5612</th>\n",
       "      <td>9876_02</td>\n",
       "      <td>bm</td>\n",
       "      <td>bilbao</td>\n",
       "      <td>juice</td>\n",
       "      <td>2023-09-18 00:00:00+00:00</td>\n",
       "      <td>242351</td>\n",
       "    </tr>\n",
       "    <tr>\n",
       "      <th>5613</th>\n",
       "      <td>9876_02</td>\n",
       "      <td>bm</td>\n",
       "      <td>bilbao</td>\n",
       "      <td>juice</td>\n",
       "      <td>2023-09-25 00:00:00+00:00</td>\n",
       "      <td>312133</td>\n",
       "    </tr>\n",
       "    <tr>\n",
       "      <th>5614</th>\n",
       "      <td>9876_02</td>\n",
       "      <td>bm</td>\n",
       "      <td>bilbao</td>\n",
       "      <td>juice</td>\n",
       "      <td>2023-10-02 00:00:00+00:00</td>\n",
       "      <td>234807</td>\n",
       "    </tr>\n",
       "    <tr>\n",
       "      <th>5615</th>\n",
       "      <td>9876_02</td>\n",
       "      <td>bm</td>\n",
       "      <td>bilbao</td>\n",
       "      <td>juice</td>\n",
       "      <td>2023-10-09 00:00:00+00:00</td>\n",
       "      <td>254610</td>\n",
       "    </tr>\n",
       "  </tbody>\n",
       "</table>\n",
       "<p>5616 rows × 6 columns</p>\n",
       "</div>"
      ],
      "text/plain": [
       "     prod_code customer location category                  time_var  shipments\n",
       "0      1424_01     lidl   bilbao    snack 2020-10-19 00:00:00+00:00     339919\n",
       "1      1424_01     lidl   bilbao    snack 2020-10-26 00:00:00+00:00     432396\n",
       "2      1424_01     lidl   bilbao    snack 2020-11-02 00:00:00+00:00     361797\n",
       "3      1424_01     lidl   bilbao    snack 2020-11-09 00:00:00+00:00     369954\n",
       "4      1424_01     lidl   bilbao    snack 2020-11-16 00:00:00+00:00     413049\n",
       "...        ...      ...      ...      ...                       ...        ...\n",
       "5611   9876_02       bm   bilbao    juice 2023-09-11 00:00:00+00:00     272527\n",
       "5612   9876_02       bm   bilbao    juice 2023-09-18 00:00:00+00:00     242351\n",
       "5613   9876_02       bm   bilbao    juice 2023-09-25 00:00:00+00:00     312133\n",
       "5614   9876_02       bm   bilbao    juice 2023-10-02 00:00:00+00:00     234807\n",
       "5615   9876_02       bm   bilbao    juice 2023-10-09 00:00:00+00:00     254610\n",
       "\n",
       "[5616 rows x 6 columns]"
      ]
     },
     "execution_count": 31,
     "metadata": {},
     "output_type": "execute_result"
    }
   ],
   "source": [
    "dedf"
   ]
  },
  {
   "cell_type": "code",
   "execution_count": 88,
   "id": "24146292-c28b-4398-b369-0d9f274d9cd1",
   "metadata": {},
   "outputs": [],
   "source": [
    "df['n_zeros'] = (df\n",
    "                 .groupby(['prod_code', 'customer', 'location'])\n",
    "                 ['shipments']\n",
    "                 .transform(lambda x: len(x[x==0]))\n",
    "                )"
   ]
  },
  {
   "cell_type": "code",
   "execution_count": 90,
   "id": "80831ead-23b1-4ba3-97e3-520e169ec986",
   "metadata": {},
   "outputs": [
    {
     "data": {
      "text/html": [
       "<div>\n",
       "<style scoped>\n",
       "    .dataframe tbody tr th:only-of-type {\n",
       "        vertical-align: middle;\n",
       "    }\n",
       "\n",
       "    .dataframe tbody tr th {\n",
       "        vertical-align: top;\n",
       "    }\n",
       "\n",
       "    .dataframe thead th {\n",
       "        text-align: right;\n",
       "    }\n",
       "</style>\n",
       "<table border=\"1\" class=\"dataframe\">\n",
       "  <thead>\n",
       "    <tr style=\"text-align: right;\">\n",
       "      <th></th>\n",
       "      <th>prod_code</th>\n",
       "      <th>customer</th>\n",
       "      <th>location</th>\n",
       "      <th>category</th>\n",
       "      <th>time_var</th>\n",
       "      <th>shipments</th>\n",
       "      <th>n_zeros</th>\n",
       "    </tr>\n",
       "  </thead>\n",
       "  <tbody>\n",
       "    <tr>\n",
       "      <th>4836</th>\n",
       "      <td>8684_05</td>\n",
       "      <td>ALDI</td>\n",
       "      <td>sansebastian</td>\n",
       "      <td>snack</td>\n",
       "      <td>2020-10-19 00:00:00+00:00</td>\n",
       "      <td>158801</td>\n",
       "      <td>14</td>\n",
       "    </tr>\n",
       "    <tr>\n",
       "      <th>4837</th>\n",
       "      <td>8684_05</td>\n",
       "      <td>ALDI</td>\n",
       "      <td>sansebastian</td>\n",
       "      <td>snack</td>\n",
       "      <td>2020-10-26 00:00:00+00:00</td>\n",
       "      <td>184545</td>\n",
       "      <td>14</td>\n",
       "    </tr>\n",
       "    <tr>\n",
       "      <th>4838</th>\n",
       "      <td>8684_05</td>\n",
       "      <td>ALDI</td>\n",
       "      <td>sansebastian</td>\n",
       "      <td>snack</td>\n",
       "      <td>2020-11-02 00:00:00+00:00</td>\n",
       "      <td>405678</td>\n",
       "      <td>14</td>\n",
       "    </tr>\n",
       "    <tr>\n",
       "      <th>4839</th>\n",
       "      <td>8684_05</td>\n",
       "      <td>ALDI</td>\n",
       "      <td>sansebastian</td>\n",
       "      <td>snack</td>\n",
       "      <td>2020-11-09 00:00:00+00:00</td>\n",
       "      <td>247160</td>\n",
       "      <td>14</td>\n",
       "    </tr>\n",
       "    <tr>\n",
       "      <th>4840</th>\n",
       "      <td>8684_05</td>\n",
       "      <td>ALDI</td>\n",
       "      <td>sansebastian</td>\n",
       "      <td>snack</td>\n",
       "      <td>2020-11-16 00:00:00+00:00</td>\n",
       "      <td>234335</td>\n",
       "      <td>14</td>\n",
       "    </tr>\n",
       "    <tr>\n",
       "      <th>...</th>\n",
       "      <td>...</td>\n",
       "      <td>...</td>\n",
       "      <td>...</td>\n",
       "      <td>...</td>\n",
       "      <td>...</td>\n",
       "      <td>...</td>\n",
       "      <td>...</td>\n",
       "    </tr>\n",
       "    <tr>\n",
       "      <th>4987</th>\n",
       "      <td>8684_05</td>\n",
       "      <td>ALDI</td>\n",
       "      <td>sansebastian</td>\n",
       "      <td>snack</td>\n",
       "      <td>2023-09-11 00:00:00+00:00</td>\n",
       "      <td>662927</td>\n",
       "      <td>14</td>\n",
       "    </tr>\n",
       "    <tr>\n",
       "      <th>4988</th>\n",
       "      <td>8684_05</td>\n",
       "      <td>ALDI</td>\n",
       "      <td>sansebastian</td>\n",
       "      <td>snack</td>\n",
       "      <td>2023-09-18 00:00:00+00:00</td>\n",
       "      <td>619266</td>\n",
       "      <td>14</td>\n",
       "    </tr>\n",
       "    <tr>\n",
       "      <th>4989</th>\n",
       "      <td>8684_05</td>\n",
       "      <td>ALDI</td>\n",
       "      <td>sansebastian</td>\n",
       "      <td>snack</td>\n",
       "      <td>2023-09-25 00:00:00+00:00</td>\n",
       "      <td>529493</td>\n",
       "      <td>14</td>\n",
       "    </tr>\n",
       "    <tr>\n",
       "      <th>4990</th>\n",
       "      <td>8684_05</td>\n",
       "      <td>ALDI</td>\n",
       "      <td>sansebastian</td>\n",
       "      <td>snack</td>\n",
       "      <td>2023-10-02 00:00:00+00:00</td>\n",
       "      <td>498091</td>\n",
       "      <td>14</td>\n",
       "    </tr>\n",
       "    <tr>\n",
       "      <th>4991</th>\n",
       "      <td>8684_05</td>\n",
       "      <td>ALDI</td>\n",
       "      <td>sansebastian</td>\n",
       "      <td>snack</td>\n",
       "      <td>2023-10-09 00:00:00+00:00</td>\n",
       "      <td>323260</td>\n",
       "      <td>14</td>\n",
       "    </tr>\n",
       "  </tbody>\n",
       "</table>\n",
       "<p>156 rows × 7 columns</p>\n",
       "</div>"
      ],
      "text/plain": [
       "     prod_code customer      location category                  time_var  \\\n",
       "4836   8684_05     ALDI  sansebastian    snack 2020-10-19 00:00:00+00:00   \n",
       "4837   8684_05     ALDI  sansebastian    snack 2020-10-26 00:00:00+00:00   \n",
       "4838   8684_05     ALDI  sansebastian    snack 2020-11-02 00:00:00+00:00   \n",
       "4839   8684_05     ALDI  sansebastian    snack 2020-11-09 00:00:00+00:00   \n",
       "4840   8684_05     ALDI  sansebastian    snack 2020-11-16 00:00:00+00:00   \n",
       "...        ...      ...           ...      ...                       ...   \n",
       "4987   8684_05     ALDI  sansebastian    snack 2023-09-11 00:00:00+00:00   \n",
       "4988   8684_05     ALDI  sansebastian    snack 2023-09-18 00:00:00+00:00   \n",
       "4989   8684_05     ALDI  sansebastian    snack 2023-09-25 00:00:00+00:00   \n",
       "4990   8684_05     ALDI  sansebastian    snack 2023-10-02 00:00:00+00:00   \n",
       "4991   8684_05     ALDI  sansebastian    snack 2023-10-09 00:00:00+00:00   \n",
       "\n",
       "      shipments  n_zeros  \n",
       "4836     158801       14  \n",
       "4837     184545       14  \n",
       "4838     405678       14  \n",
       "4839     247160       14  \n",
       "4840     234335       14  \n",
       "...         ...      ...  \n",
       "4987     662927       14  \n",
       "4988     619266       14  \n",
       "4989     529493       14  \n",
       "4990     498091       14  \n",
       "4991     323260       14  \n",
       "\n",
       "[156 rows x 7 columns]"
      ]
     },
     "execution_count": 90,
     "metadata": {},
     "output_type": "execute_result"
    }
   ],
   "source": [
    "df[df['n_zeros'] != 0]"
   ]
  },
  {
   "cell_type": "code",
   "execution_count": 156,
   "id": "7fcd934a-56ef-41b9-9622-ff588686c7be",
   "metadata": {},
   "outputs": [
    {
     "data": {
      "text/html": [
       "<div>\n",
       "<style scoped>\n",
       "    .dataframe tbody tr th:only-of-type {\n",
       "        vertical-align: middle;\n",
       "    }\n",
       "\n",
       "    .dataframe tbody tr th {\n",
       "        vertical-align: top;\n",
       "    }\n",
       "\n",
       "    .dataframe thead th {\n",
       "        text-align: right;\n",
       "    }\n",
       "</style>\n",
       "<table border=\"1\" class=\"dataframe\">\n",
       "  <thead>\n",
       "    <tr style=\"text-align: right;\">\n",
       "      <th></th>\n",
       "      <th>prod_code</th>\n",
       "      <th>customer</th>\n",
       "      <th>location</th>\n",
       "      <th>category</th>\n",
       "      <th>time_var</th>\n",
       "      <th>shipments</th>\n",
       "      <th>n_zeros</th>\n",
       "    </tr>\n",
       "  </thead>\n",
       "  <tbody>\n",
       "    <tr>\n",
       "      <th>0</th>\n",
       "      <td>1424_01</td>\n",
       "      <td>lidl</td>\n",
       "      <td>bilbao</td>\n",
       "      <td>snack</td>\n",
       "      <td>2020-10-19 00:00:00+00:00</td>\n",
       "      <td>339919</td>\n",
       "      <td>0</td>\n",
       "    </tr>\n",
       "    <tr>\n",
       "      <th>1</th>\n",
       "      <td>1424_01</td>\n",
       "      <td>lidl</td>\n",
       "      <td>bilbao</td>\n",
       "      <td>snack</td>\n",
       "      <td>2020-10-26 00:00:00+00:00</td>\n",
       "      <td>432396</td>\n",
       "      <td>0</td>\n",
       "    </tr>\n",
       "    <tr>\n",
       "      <th>2</th>\n",
       "      <td>1424_01</td>\n",
       "      <td>lidl</td>\n",
       "      <td>bilbao</td>\n",
       "      <td>snack</td>\n",
       "      <td>2020-11-02 00:00:00+00:00</td>\n",
       "      <td>361797</td>\n",
       "      <td>0</td>\n",
       "    </tr>\n",
       "    <tr>\n",
       "      <th>3</th>\n",
       "      <td>1424_01</td>\n",
       "      <td>lidl</td>\n",
       "      <td>bilbao</td>\n",
       "      <td>snack</td>\n",
       "      <td>2020-11-09 00:00:00+00:00</td>\n",
       "      <td>369954</td>\n",
       "      <td>0</td>\n",
       "    </tr>\n",
       "    <tr>\n",
       "      <th>4</th>\n",
       "      <td>1424_01</td>\n",
       "      <td>lidl</td>\n",
       "      <td>bilbao</td>\n",
       "      <td>snack</td>\n",
       "      <td>2020-11-16 00:00:00+00:00</td>\n",
       "      <td>413049</td>\n",
       "      <td>0</td>\n",
       "    </tr>\n",
       "    <tr>\n",
       "      <th>...</th>\n",
       "      <td>...</td>\n",
       "      <td>...</td>\n",
       "      <td>...</td>\n",
       "      <td>...</td>\n",
       "      <td>...</td>\n",
       "      <td>...</td>\n",
       "      <td>...</td>\n",
       "    </tr>\n",
       "    <tr>\n",
       "      <th>5611</th>\n",
       "      <td>9876_02</td>\n",
       "      <td>bm</td>\n",
       "      <td>bilbao</td>\n",
       "      <td>juice</td>\n",
       "      <td>2023-09-11 00:00:00+00:00</td>\n",
       "      <td>272527</td>\n",
       "      <td>0</td>\n",
       "    </tr>\n",
       "    <tr>\n",
       "      <th>5612</th>\n",
       "      <td>9876_02</td>\n",
       "      <td>bm</td>\n",
       "      <td>bilbao</td>\n",
       "      <td>juice</td>\n",
       "      <td>2023-09-18 00:00:00+00:00</td>\n",
       "      <td>242351</td>\n",
       "      <td>0</td>\n",
       "    </tr>\n",
       "    <tr>\n",
       "      <th>5613</th>\n",
       "      <td>9876_02</td>\n",
       "      <td>bm</td>\n",
       "      <td>bilbao</td>\n",
       "      <td>juice</td>\n",
       "      <td>2023-09-25 00:00:00+00:00</td>\n",
       "      <td>312133</td>\n",
       "      <td>0</td>\n",
       "    </tr>\n",
       "    <tr>\n",
       "      <th>5614</th>\n",
       "      <td>9876_02</td>\n",
       "      <td>bm</td>\n",
       "      <td>bilbao</td>\n",
       "      <td>juice</td>\n",
       "      <td>2023-10-02 00:00:00+00:00</td>\n",
       "      <td>234807</td>\n",
       "      <td>0</td>\n",
       "    </tr>\n",
       "    <tr>\n",
       "      <th>5615</th>\n",
       "      <td>9876_02</td>\n",
       "      <td>bm</td>\n",
       "      <td>bilbao</td>\n",
       "      <td>juice</td>\n",
       "      <td>2023-10-09 00:00:00+00:00</td>\n",
       "      <td>254610</td>\n",
       "      <td>0</td>\n",
       "    </tr>\n",
       "  </tbody>\n",
       "</table>\n",
       "<p>5616 rows × 7 columns</p>\n",
       "</div>"
      ],
      "text/plain": [
       "     prod_code customer location category                  time_var  \\\n",
       "0      1424_01     lidl   bilbao    snack 2020-10-19 00:00:00+00:00   \n",
       "1      1424_01     lidl   bilbao    snack 2020-10-26 00:00:00+00:00   \n",
       "2      1424_01     lidl   bilbao    snack 2020-11-02 00:00:00+00:00   \n",
       "3      1424_01     lidl   bilbao    snack 2020-11-09 00:00:00+00:00   \n",
       "4      1424_01     lidl   bilbao    snack 2020-11-16 00:00:00+00:00   \n",
       "...        ...      ...      ...      ...                       ...   \n",
       "5611   9876_02       bm   bilbao    juice 2023-09-11 00:00:00+00:00   \n",
       "5612   9876_02       bm   bilbao    juice 2023-09-18 00:00:00+00:00   \n",
       "5613   9876_02       bm   bilbao    juice 2023-09-25 00:00:00+00:00   \n",
       "5614   9876_02       bm   bilbao    juice 2023-10-02 00:00:00+00:00   \n",
       "5615   9876_02       bm   bilbao    juice 2023-10-09 00:00:00+00:00   \n",
       "\n",
       "      shipments  n_zeros  \n",
       "0        339919        0  \n",
       "1        432396        0  \n",
       "2        361797        0  \n",
       "3        369954        0  \n",
       "4        413049        0  \n",
       "...         ...      ...  \n",
       "5611     272527        0  \n",
       "5612     242351        0  \n",
       "5613     312133        0  \n",
       "5614     234807        0  \n",
       "5615     254610        0  \n",
       "\n",
       "[5616 rows x 7 columns]"
      ]
     },
     "execution_count": 156,
     "metadata": {},
     "output_type": "execute_result"
    }
   ],
   "source": [
    "df"
   ]
  },
  {
   "cell_type": "code",
   "execution_count": 312,
   "id": "92adbeca-5ffb-4046-a1ea-47c919ddeb14",
   "metadata": {},
   "outputs": [],
   "source": [
    "def _winsorize(df, threshold=0.05):\n",
    "\n",
    "    stl = STL(df, period=52, seasonal=53)\n",
    "    res = stl.fit()\n",
    "    \n",
    "    observed = res.observed.to_numpy()\n",
    "    trend = res.trend\n",
    "    seasonal = res.seasonal\n",
    "    residual = res.resid\n",
    "\n",
    "    residual_winsorize = mstats.winsorize(\n",
    "                        residual, limits=[threshold, threshold]\n",
    "                    )\n",
    "    adjustment = (np.ma.getdata(residual_winsorize) - residual).round()\n",
    "    residual_winsorize[adjustment != 0] = 0\n",
    "    observed_winsorize = (trend + seasonal + residual_winsorize).round()\n",
    "\n",
    "    # Change negative values to zero\n",
    "    observed_winsorize = map(lambda x: max(x, 0), observed_winsorize)\n",
    "\n",
    "    return observed_winsorize"
   ]
  },
  {
   "cell_type": "code",
   "execution_count": 313,
   "id": "e91f6d7d-8443-4313-bbff-d53558346e98",
   "metadata": {},
   "outputs": [],
   "source": [
    "df['new_ship'] = (df           \n",
    "                     .sort_values(by='time_var')\n",
    "                     .groupby(['prod_code', 'customer', 'location'])\n",
    "                     ['shipments']\n",
    "                     .transform(lambda x: _winsorize(x))\n",
    "                    )"
   ]
  },
  {
   "cell_type": "code",
   "execution_count": 314,
   "id": "a9ef935a-ac32-4077-9d1d-13f6382751d0",
   "metadata": {},
   "outputs": [
    {
     "name": "stderr",
     "output_type": "stream",
     "text": [
      "/home/pepsico/.local/lib/python3.10/site-packages/_plotly_utils/basevalidators.py:105: FutureWarning:\n",
      "\n",
      "The behavior of DatetimeProperties.to_pydatetime is deprecated, in a future version this will return a Series containing python datetime objects instead of an ndarray. To retain the old behavior, call `np.array` on the result\n",
      "\n",
      "/home/pepsico/.local/lib/python3.10/site-packages/_plotly_utils/basevalidators.py:105: FutureWarning:\n",
      "\n",
      "The behavior of DatetimeProperties.to_pydatetime is deprecated, in a future version this will return a Series containing python datetime objects instead of an ndarray. To retain the old behavior, call `np.array` on the result\n",
      "\n"
     ]
    },
    {
     "data": {
      "application/vnd.plotly.v1+json": {
       "config": {
        "plotlyServerURL": "https://plot.ly"
       },
       "data": [
        {
         "hovertemplate": "time_var=%{x}<br>shipments=%{y}<extra></extra>",
         "legendgroup": "",
         "line": {
          "color": "#636efa",
          "dash": "solid"
         },
         "marker": {
          "symbol": "circle"
         },
         "mode": "lines",
         "name": "",
         "orientation": "v",
         "showlegend": false,
         "type": "scatter",
         "x": [
          "2020-10-19T00:00:00+00:00",
          "2020-10-26T00:00:00+00:00",
          "2020-11-02T00:00:00+00:00",
          "2020-11-09T00:00:00+00:00",
          "2020-11-16T00:00:00+00:00",
          "2020-11-23T00:00:00+00:00",
          "2020-11-30T00:00:00+00:00",
          "2020-12-07T00:00:00+00:00",
          "2020-12-14T00:00:00+00:00",
          "2020-12-21T00:00:00+00:00",
          "2020-12-28T00:00:00+00:00",
          "2021-01-04T00:00:00+00:00",
          "2021-01-11T00:00:00+00:00",
          "2021-01-18T00:00:00+00:00",
          "2021-01-25T00:00:00+00:00",
          "2021-02-01T00:00:00+00:00",
          "2021-02-08T00:00:00+00:00",
          "2021-02-15T00:00:00+00:00",
          "2021-02-22T00:00:00+00:00",
          "2021-03-01T00:00:00+00:00",
          "2021-03-08T00:00:00+00:00",
          "2021-03-15T00:00:00+00:00",
          "2021-03-22T00:00:00+00:00",
          "2021-03-29T00:00:00+00:00",
          "2021-04-05T00:00:00+00:00",
          "2021-04-12T00:00:00+00:00",
          "2021-04-19T00:00:00+00:00",
          "2021-04-26T00:00:00+00:00",
          "2021-05-03T00:00:00+00:00",
          "2021-05-10T00:00:00+00:00",
          "2021-05-17T00:00:00+00:00",
          "2021-05-24T00:00:00+00:00",
          "2021-05-31T00:00:00+00:00",
          "2021-06-07T00:00:00+00:00",
          "2021-06-14T00:00:00+00:00",
          "2021-06-21T00:00:00+00:00",
          "2021-06-28T00:00:00+00:00",
          "2021-07-05T00:00:00+00:00",
          "2021-07-12T00:00:00+00:00",
          "2021-07-19T00:00:00+00:00",
          "2021-07-26T00:00:00+00:00",
          "2021-08-02T00:00:00+00:00",
          "2021-08-09T00:00:00+00:00",
          "2021-08-16T00:00:00+00:00",
          "2021-08-23T00:00:00+00:00",
          "2021-08-30T00:00:00+00:00",
          "2021-09-06T00:00:00+00:00",
          "2021-09-13T00:00:00+00:00",
          "2021-09-20T00:00:00+00:00",
          "2021-09-27T00:00:00+00:00",
          "2021-10-04T00:00:00+00:00",
          "2021-10-11T00:00:00+00:00",
          "2021-10-18T00:00:00+00:00",
          "2021-10-25T00:00:00+00:00",
          "2021-11-01T00:00:00+00:00",
          "2021-11-08T00:00:00+00:00",
          "2021-11-15T00:00:00+00:00",
          "2021-11-22T00:00:00+00:00",
          "2021-11-29T00:00:00+00:00",
          "2021-12-06T00:00:00+00:00",
          "2021-12-13T00:00:00+00:00",
          "2021-12-20T00:00:00+00:00",
          "2021-12-27T00:00:00+00:00",
          "2022-01-03T00:00:00+00:00",
          "2022-01-10T00:00:00+00:00",
          "2022-01-17T00:00:00+00:00",
          "2022-01-24T00:00:00+00:00",
          "2022-01-31T00:00:00+00:00",
          "2022-02-07T00:00:00+00:00",
          "2022-02-14T00:00:00+00:00",
          "2022-02-21T00:00:00+00:00",
          "2022-02-28T00:00:00+00:00",
          "2022-03-07T00:00:00+00:00",
          "2022-03-14T00:00:00+00:00",
          "2022-03-21T00:00:00+00:00",
          "2022-03-28T00:00:00+00:00",
          "2022-04-04T00:00:00+00:00",
          "2022-04-11T00:00:00+00:00",
          "2022-04-18T00:00:00+00:00",
          "2022-04-25T00:00:00+00:00",
          "2022-05-02T00:00:00+00:00",
          "2022-05-09T00:00:00+00:00",
          "2022-05-16T00:00:00+00:00",
          "2022-05-23T00:00:00+00:00",
          "2022-05-30T00:00:00+00:00",
          "2022-06-06T00:00:00+00:00",
          "2022-06-13T00:00:00+00:00",
          "2022-06-20T00:00:00+00:00",
          "2022-06-27T00:00:00+00:00",
          "2022-07-04T00:00:00+00:00",
          "2022-07-11T00:00:00+00:00",
          "2022-07-18T00:00:00+00:00",
          "2022-07-25T00:00:00+00:00",
          "2022-08-01T00:00:00+00:00",
          "2022-08-08T00:00:00+00:00",
          "2022-08-15T00:00:00+00:00",
          "2022-08-22T00:00:00+00:00",
          "2022-08-29T00:00:00+00:00",
          "2022-09-05T00:00:00+00:00",
          "2022-09-12T00:00:00+00:00",
          "2022-09-19T00:00:00+00:00",
          "2022-09-26T00:00:00+00:00",
          "2022-10-03T00:00:00+00:00",
          "2022-10-10T00:00:00+00:00",
          "2022-10-17T00:00:00+00:00",
          "2022-10-24T00:00:00+00:00",
          "2022-10-31T00:00:00+00:00",
          "2022-11-07T00:00:00+00:00",
          "2022-11-14T00:00:00+00:00",
          "2022-11-21T00:00:00+00:00",
          "2022-11-28T00:00:00+00:00",
          "2022-12-05T00:00:00+00:00",
          "2022-12-12T00:00:00+00:00",
          "2022-12-19T00:00:00+00:00",
          "2022-12-26T00:00:00+00:00",
          "2023-01-02T00:00:00+00:00",
          "2023-01-09T00:00:00+00:00",
          "2023-01-16T00:00:00+00:00",
          "2023-01-23T00:00:00+00:00",
          "2023-01-30T00:00:00+00:00",
          "2023-02-06T00:00:00+00:00",
          "2023-02-13T00:00:00+00:00",
          "2023-02-20T00:00:00+00:00",
          "2023-02-27T00:00:00+00:00",
          "2023-03-06T00:00:00+00:00",
          "2023-03-13T00:00:00+00:00",
          "2023-03-20T00:00:00+00:00",
          "2023-03-27T00:00:00+00:00",
          "2023-04-03T00:00:00+00:00",
          "2023-04-10T00:00:00+00:00",
          "2023-04-17T00:00:00+00:00",
          "2023-04-24T00:00:00+00:00",
          "2023-05-01T00:00:00+00:00",
          "2023-05-08T00:00:00+00:00",
          "2023-05-15T00:00:00+00:00",
          "2023-05-22T00:00:00+00:00",
          "2023-05-29T00:00:00+00:00",
          "2023-06-05T00:00:00+00:00",
          "2023-06-12T00:00:00+00:00",
          "2023-06-19T00:00:00+00:00",
          "2023-06-26T00:00:00+00:00",
          "2023-07-03T00:00:00+00:00",
          "2023-07-10T00:00:00+00:00",
          "2023-07-17T00:00:00+00:00",
          "2023-07-24T00:00:00+00:00",
          "2023-07-31T00:00:00+00:00",
          "2023-08-07T00:00:00+00:00",
          "2023-08-14T00:00:00+00:00",
          "2023-08-21T00:00:00+00:00",
          "2023-08-28T00:00:00+00:00",
          "2023-09-04T00:00:00+00:00",
          "2023-09-11T00:00:00+00:00",
          "2023-09-18T00:00:00+00:00",
          "2023-09-25T00:00:00+00:00",
          "2023-10-02T00:00:00+00:00",
          "2023-10-09T00:00:00+00:00"
         ],
         "xaxis": "x",
         "y": [
          339919,
          432396,
          361797,
          369954,
          413049,
          399045,
          447028,
          323401,
          296306,
          349774,
          257737,
          375942,
          398354,
          331385,
          383187,
          505871,
          481605,
          446824,
          429237,
          363369,
          463546,
          459806,
          453425,
          188962,
          351015,
          492198,
          433842,
          494052,
          353263,
          393607,
          523332,
          508826,
          372044,
          440349,
          594183,
          444608,
          301712,
          502429,
          577303,
          585130,
          497667,
          713236,
          576926,
          507286,
          470886,
          445834,
          496818,
          382166,
          437410,
          346002,
          341821,
          408035,
          506060,
          553272,
          289642,
          407737,
          414731,
          557123,
          519796,
          248889,
          582992,
          321547,
          453786,
          340658,
          418141,
          399501,
          541564,
          456238,
          389584,
          435979,
          392397,
          432836,
          437158,
          43253,
          505368,
          761832,
          641631,
          221856,
          603896,
          650055,
          513179,
          567952,
          649505,
          585491,
          794994,
          626952,
          457244,
          507097,
          424208,
          512166,
          592037,
          596741,
          613974,
          623345,
          598238,
          600017,
          562922,
          515843,
          608057,
          413681,
          473691,
          459629,
          506920,
          146542,
          424546,
          378716,
          304345,
          590057,
          249447,
          363329,
          306695,
          333209,
          467373,
          246869,
          449975,
          310019,
          522350,
          413819,
          359392,
          464254,
          318160,
          364453,
          390936,
          399085,
          455900,
          470674,
          435838,
          580879,
          507624,
          582961,
          1058773,
          646079,
          420664,
          159540,
          121647,
          110473,
          128484,
          138570,
          162275,
          190046,
          164860,
          203197,
          255600,
          199617,
          126138,
          206619,
          144979,
          131639,
          136032,
          179869,
          176671,
          166821,
          139462,
          112166,
          93652,
          77657
         ],
         "yaxis": "y"
        }
       ],
       "layout": {
        "autosize": true,
        "legend": {
         "tracegroupgap": 0
        },
        "template": {
         "data": {
          "bar": [
           {
            "error_x": {
             "color": "#2a3f5f"
            },
            "error_y": {
             "color": "#2a3f5f"
            },
            "marker": {
             "line": {
              "color": "#E5ECF6",
              "width": 0.5
             },
             "pattern": {
              "fillmode": "overlay",
              "size": 10,
              "solidity": 0.2
             }
            },
            "type": "bar"
           }
          ],
          "barpolar": [
           {
            "marker": {
             "line": {
              "color": "#E5ECF6",
              "width": 0.5
             },
             "pattern": {
              "fillmode": "overlay",
              "size": 10,
              "solidity": 0.2
             }
            },
            "type": "barpolar"
           }
          ],
          "carpet": [
           {
            "aaxis": {
             "endlinecolor": "#2a3f5f",
             "gridcolor": "white",
             "linecolor": "white",
             "minorgridcolor": "white",
             "startlinecolor": "#2a3f5f"
            },
            "baxis": {
             "endlinecolor": "#2a3f5f",
             "gridcolor": "white",
             "linecolor": "white",
             "minorgridcolor": "white",
             "startlinecolor": "#2a3f5f"
            },
            "type": "carpet"
           }
          ],
          "choropleth": [
           {
            "colorbar": {
             "outlinewidth": 0,
             "ticks": ""
            },
            "type": "choropleth"
           }
          ],
          "contour": [
           {
            "colorbar": {
             "outlinewidth": 0,
             "ticks": ""
            },
            "colorscale": [
             [
              0,
              "#0d0887"
             ],
             [
              0.1111111111111111,
              "#46039f"
             ],
             [
              0.2222222222222222,
              "#7201a8"
             ],
             [
              0.3333333333333333,
              "#9c179e"
             ],
             [
              0.4444444444444444,
              "#bd3786"
             ],
             [
              0.5555555555555556,
              "#d8576b"
             ],
             [
              0.6666666666666666,
              "#ed7953"
             ],
             [
              0.7777777777777778,
              "#fb9f3a"
             ],
             [
              0.8888888888888888,
              "#fdca26"
             ],
             [
              1,
              "#f0f921"
             ]
            ],
            "type": "contour"
           }
          ],
          "contourcarpet": [
           {
            "colorbar": {
             "outlinewidth": 0,
             "ticks": ""
            },
            "type": "contourcarpet"
           }
          ],
          "heatmap": [
           {
            "colorbar": {
             "outlinewidth": 0,
             "ticks": ""
            },
            "colorscale": [
             [
              0,
              "#0d0887"
             ],
             [
              0.1111111111111111,
              "#46039f"
             ],
             [
              0.2222222222222222,
              "#7201a8"
             ],
             [
              0.3333333333333333,
              "#9c179e"
             ],
             [
              0.4444444444444444,
              "#bd3786"
             ],
             [
              0.5555555555555556,
              "#d8576b"
             ],
             [
              0.6666666666666666,
              "#ed7953"
             ],
             [
              0.7777777777777778,
              "#fb9f3a"
             ],
             [
              0.8888888888888888,
              "#fdca26"
             ],
             [
              1,
              "#f0f921"
             ]
            ],
            "type": "heatmap"
           }
          ],
          "heatmapgl": [
           {
            "colorbar": {
             "outlinewidth": 0,
             "ticks": ""
            },
            "colorscale": [
             [
              0,
              "#0d0887"
             ],
             [
              0.1111111111111111,
              "#46039f"
             ],
             [
              0.2222222222222222,
              "#7201a8"
             ],
             [
              0.3333333333333333,
              "#9c179e"
             ],
             [
              0.4444444444444444,
              "#bd3786"
             ],
             [
              0.5555555555555556,
              "#d8576b"
             ],
             [
              0.6666666666666666,
              "#ed7953"
             ],
             [
              0.7777777777777778,
              "#fb9f3a"
             ],
             [
              0.8888888888888888,
              "#fdca26"
             ],
             [
              1,
              "#f0f921"
             ]
            ],
            "type": "heatmapgl"
           }
          ],
          "histogram": [
           {
            "marker": {
             "pattern": {
              "fillmode": "overlay",
              "size": 10,
              "solidity": 0.2
             }
            },
            "type": "histogram"
           }
          ],
          "histogram2d": [
           {
            "colorbar": {
             "outlinewidth": 0,
             "ticks": ""
            },
            "colorscale": [
             [
              0,
              "#0d0887"
             ],
             [
              0.1111111111111111,
              "#46039f"
             ],
             [
              0.2222222222222222,
              "#7201a8"
             ],
             [
              0.3333333333333333,
              "#9c179e"
             ],
             [
              0.4444444444444444,
              "#bd3786"
             ],
             [
              0.5555555555555556,
              "#d8576b"
             ],
             [
              0.6666666666666666,
              "#ed7953"
             ],
             [
              0.7777777777777778,
              "#fb9f3a"
             ],
             [
              0.8888888888888888,
              "#fdca26"
             ],
             [
              1,
              "#f0f921"
             ]
            ],
            "type": "histogram2d"
           }
          ],
          "histogram2dcontour": [
           {
            "colorbar": {
             "outlinewidth": 0,
             "ticks": ""
            },
            "colorscale": [
             [
              0,
              "#0d0887"
             ],
             [
              0.1111111111111111,
              "#46039f"
             ],
             [
              0.2222222222222222,
              "#7201a8"
             ],
             [
              0.3333333333333333,
              "#9c179e"
             ],
             [
              0.4444444444444444,
              "#bd3786"
             ],
             [
              0.5555555555555556,
              "#d8576b"
             ],
             [
              0.6666666666666666,
              "#ed7953"
             ],
             [
              0.7777777777777778,
              "#fb9f3a"
             ],
             [
              0.8888888888888888,
              "#fdca26"
             ],
             [
              1,
              "#f0f921"
             ]
            ],
            "type": "histogram2dcontour"
           }
          ],
          "mesh3d": [
           {
            "colorbar": {
             "outlinewidth": 0,
             "ticks": ""
            },
            "type": "mesh3d"
           }
          ],
          "parcoords": [
           {
            "line": {
             "colorbar": {
              "outlinewidth": 0,
              "ticks": ""
             }
            },
            "type": "parcoords"
           }
          ],
          "pie": [
           {
            "automargin": true,
            "type": "pie"
           }
          ],
          "scatter": [
           {
            "fillpattern": {
             "fillmode": "overlay",
             "size": 10,
             "solidity": 0.2
            },
            "type": "scatter"
           }
          ],
          "scatter3d": [
           {
            "line": {
             "colorbar": {
              "outlinewidth": 0,
              "ticks": ""
             }
            },
            "marker": {
             "colorbar": {
              "outlinewidth": 0,
              "ticks": ""
             }
            },
            "type": "scatter3d"
           }
          ],
          "scattercarpet": [
           {
            "marker": {
             "colorbar": {
              "outlinewidth": 0,
              "ticks": ""
             }
            },
            "type": "scattercarpet"
           }
          ],
          "scattergeo": [
           {
            "marker": {
             "colorbar": {
              "outlinewidth": 0,
              "ticks": ""
             }
            },
            "type": "scattergeo"
           }
          ],
          "scattergl": [
           {
            "marker": {
             "colorbar": {
              "outlinewidth": 0,
              "ticks": ""
             }
            },
            "type": "scattergl"
           }
          ],
          "scattermapbox": [
           {
            "marker": {
             "colorbar": {
              "outlinewidth": 0,
              "ticks": ""
             }
            },
            "type": "scattermapbox"
           }
          ],
          "scatterpolar": [
           {
            "marker": {
             "colorbar": {
              "outlinewidth": 0,
              "ticks": ""
             }
            },
            "type": "scatterpolar"
           }
          ],
          "scatterpolargl": [
           {
            "marker": {
             "colorbar": {
              "outlinewidth": 0,
              "ticks": ""
             }
            },
            "type": "scatterpolargl"
           }
          ],
          "scatterternary": [
           {
            "marker": {
             "colorbar": {
              "outlinewidth": 0,
              "ticks": ""
             }
            },
            "type": "scatterternary"
           }
          ],
          "surface": [
           {
            "colorbar": {
             "outlinewidth": 0,
             "ticks": ""
            },
            "colorscale": [
             [
              0,
              "#0d0887"
             ],
             [
              0.1111111111111111,
              "#46039f"
             ],
             [
              0.2222222222222222,
              "#7201a8"
             ],
             [
              0.3333333333333333,
              "#9c179e"
             ],
             [
              0.4444444444444444,
              "#bd3786"
             ],
             [
              0.5555555555555556,
              "#d8576b"
             ],
             [
              0.6666666666666666,
              "#ed7953"
             ],
             [
              0.7777777777777778,
              "#fb9f3a"
             ],
             [
              0.8888888888888888,
              "#fdca26"
             ],
             [
              1,
              "#f0f921"
             ]
            ],
            "type": "surface"
           }
          ],
          "table": [
           {
            "cells": {
             "fill": {
              "color": "#EBF0F8"
             },
             "line": {
              "color": "white"
             }
            },
            "header": {
             "fill": {
              "color": "#C8D4E3"
             },
             "line": {
              "color": "white"
             }
            },
            "type": "table"
           }
          ]
         },
         "layout": {
          "annotationdefaults": {
           "arrowcolor": "#2a3f5f",
           "arrowhead": 0,
           "arrowwidth": 1
          },
          "autotypenumbers": "strict",
          "coloraxis": {
           "colorbar": {
            "outlinewidth": 0,
            "ticks": ""
           }
          },
          "colorscale": {
           "diverging": [
            [
             0,
             "#8e0152"
            ],
            [
             0.1,
             "#c51b7d"
            ],
            [
             0.2,
             "#de77ae"
            ],
            [
             0.3,
             "#f1b6da"
            ],
            [
             0.4,
             "#fde0ef"
            ],
            [
             0.5,
             "#f7f7f7"
            ],
            [
             0.6,
             "#e6f5d0"
            ],
            [
             0.7,
             "#b8e186"
            ],
            [
             0.8,
             "#7fbc41"
            ],
            [
             0.9,
             "#4d9221"
            ],
            [
             1,
             "#276419"
            ]
           ],
           "sequential": [
            [
             0,
             "#0d0887"
            ],
            [
             0.1111111111111111,
             "#46039f"
            ],
            [
             0.2222222222222222,
             "#7201a8"
            ],
            [
             0.3333333333333333,
             "#9c179e"
            ],
            [
             0.4444444444444444,
             "#bd3786"
            ],
            [
             0.5555555555555556,
             "#d8576b"
            ],
            [
             0.6666666666666666,
             "#ed7953"
            ],
            [
             0.7777777777777778,
             "#fb9f3a"
            ],
            [
             0.8888888888888888,
             "#fdca26"
            ],
            [
             1,
             "#f0f921"
            ]
           ],
           "sequentialminus": [
            [
             0,
             "#0d0887"
            ],
            [
             0.1111111111111111,
             "#46039f"
            ],
            [
             0.2222222222222222,
             "#7201a8"
            ],
            [
             0.3333333333333333,
             "#9c179e"
            ],
            [
             0.4444444444444444,
             "#bd3786"
            ],
            [
             0.5555555555555556,
             "#d8576b"
            ],
            [
             0.6666666666666666,
             "#ed7953"
            ],
            [
             0.7777777777777778,
             "#fb9f3a"
            ],
            [
             0.8888888888888888,
             "#fdca26"
            ],
            [
             1,
             "#f0f921"
            ]
           ]
          },
          "colorway": [
           "#636efa",
           "#EF553B",
           "#00cc96",
           "#ab63fa",
           "#FFA15A",
           "#19d3f3",
           "#FF6692",
           "#B6E880",
           "#FF97FF",
           "#FECB52"
          ],
          "font": {
           "color": "#2a3f5f"
          },
          "geo": {
           "bgcolor": "white",
           "lakecolor": "white",
           "landcolor": "#E5ECF6",
           "showlakes": true,
           "showland": true,
           "subunitcolor": "white"
          },
          "hoverlabel": {
           "align": "left"
          },
          "hovermode": "closest",
          "mapbox": {
           "style": "light"
          },
          "paper_bgcolor": "white",
          "plot_bgcolor": "#E5ECF6",
          "polar": {
           "angularaxis": {
            "gridcolor": "white",
            "linecolor": "white",
            "ticks": ""
           },
           "bgcolor": "#E5ECF6",
           "radialaxis": {
            "gridcolor": "white",
            "linecolor": "white",
            "ticks": ""
           }
          },
          "scene": {
           "xaxis": {
            "backgroundcolor": "#E5ECF6",
            "gridcolor": "white",
            "gridwidth": 2,
            "linecolor": "white",
            "showbackground": true,
            "ticks": "",
            "zerolinecolor": "white"
           },
           "yaxis": {
            "backgroundcolor": "#E5ECF6",
            "gridcolor": "white",
            "gridwidth": 2,
            "linecolor": "white",
            "showbackground": true,
            "ticks": "",
            "zerolinecolor": "white"
           },
           "zaxis": {
            "backgroundcolor": "#E5ECF6",
            "gridcolor": "white",
            "gridwidth": 2,
            "linecolor": "white",
            "showbackground": true,
            "ticks": "",
            "zerolinecolor": "white"
           }
          },
          "shapedefaults": {
           "line": {
            "color": "#2a3f5f"
           }
          },
          "ternary": {
           "aaxis": {
            "gridcolor": "white",
            "linecolor": "white",
            "ticks": ""
           },
           "baxis": {
            "gridcolor": "white",
            "linecolor": "white",
            "ticks": ""
           },
           "bgcolor": "#E5ECF6",
           "caxis": {
            "gridcolor": "white",
            "linecolor": "white",
            "ticks": ""
           }
          },
          "title": {
           "x": 0.05
          },
          "xaxis": {
           "automargin": true,
           "gridcolor": "white",
           "linecolor": "white",
           "ticks": "",
           "title": {
            "standoff": 15
           },
           "zerolinecolor": "white",
           "zerolinewidth": 2
          },
          "yaxis": {
           "automargin": true,
           "gridcolor": "white",
           "linecolor": "white",
           "ticks": "",
           "title": {
            "standoff": 15
           },
           "zerolinecolor": "white",
           "zerolinewidth": 2
          }
         }
        },
        "title": {
         "text": "Original"
        },
        "xaxis": {
         "anchor": "y",
         "autorange": true,
         "domain": [
          0,
          1
         ],
         "range": [
          "2020-10-19",
          "2023-10-09"
         ],
         "title": {
          "text": "time_var"
         },
         "type": "date"
        },
        "yaxis": {
         "anchor": "x",
         "autorange": true,
         "domain": [
          0,
          1
         ],
         "range": [
          -13164.777777777781,
          1115190.7777777778
         ],
         "title": {
          "text": "shipments"
         },
         "type": "linear"
        }
       }
      },
      "image/png": "[encoded data removed]",
      "text/html": [
       "<div>                            <div id=\"6fd37821-a795-4bdf-8847-f578029c92c4\" class=\"plotly-graph-div\" style=\"height:525px; width:100%;\"></div>            <script type=\"text/javascript\">                require([\"plotly\"], function(Plotly) {                    window.PLOTLYENV=window.PLOTLYENV || {};                                    if (document.getElementById(\"6fd37821-a795-4bdf-8847-f578029c92c4\")) {                    Plotly.newPlot(                        \"6fd37821-a795-4bdf-8847-f578029c92c4\",                        [{\"hovertemplate\":\"time_var=%{x}\\u003cbr\\u003eshipments=%{y}\\u003cextra\\u003e\\u003c\\u002fextra\\u003e\",\"legendgroup\":\"\",\"line\":{\"color\":\"#636efa\",\"dash\":\"solid\"},\"marker\":{\"symbol\":\"circle\"},\"mode\":\"lines\",\"name\":\"\",\"orientation\":\"v\",\"showlegend\":false,\"x\":[\"2020-10-19T00:00:00+00:00\",\"2020-10-26T00:00:00+00:00\",\"2020-11-02T00:00:00+00:00\",\"2020-11-09T00:00:00+00:00\",\"2020-11-16T00:00:00+00:00\",\"2020-11-23T00:00:00+00:00\",\"2020-11-30T00:00:00+00:00\",\"2020-12-07T00:00:00+00:00\",\"2020-12-14T00:00:00+00:00\",\"2020-12-21T00:00:00+00:00\",\"2020-12-28T00:00:00+00:00\",\"2021-01-04T00:00:00+00:00\",\"2021-01-11T00:00:00+00:00\",\"2021-01-18T00:00:00+00:00\",\"2021-01-25T00:00:00+00:00\",\"2021-02-01T00:00:00+00:00\",\"2021-02-08T00:00:00+00:00\",\"2021-02-15T00:00:00+00:00\",\"2021-02-22T00:00:00+00:00\",\"2021-03-01T00:00:00+00:00\",\"2021-03-08T00:00:00+00:00\",\"2021-03-15T00:00:00+00:00\",\"2021-03-22T00:00:00+00:00\",\"2021-03-29T00:00:00+00:00\",\"2021-04-05T00:00:00+00:00\",\"2021-04-12T00:00:00+00:00\",\"2021-04-19T00:00:00+00:00\",\"2021-04-26T00:00:00+00:00\",\"2021-05-03T00:00:00+00:00\",\"2021-05-10T00:00:00+00:00\",\"2021-05-17T00:00:00+00:00\",\"2021-05-24T00:00:00+00:00\",\"2021-05-31T00:00:00+00:00\",\"2021-06-07T00:00:00+00:00\",\"2021-06-14T00:00:00+00:00\",\"2021-06-21T00:00:00+00:00\",\"2021-06-28T00:00:00+00:00\",\"2021-07-05T00:00:00+00:00\",\"2021-07-12T00:00:00+00:00\",\"2021-07-19T00:00:00+00:00\",\"2021-07-26T00:00:00+00:00\",\"2021-08-02T00:00:00+00:00\",\"2021-08-09T00:00:00+00:00\",\"2021-08-16T00:00:00+00:00\",\"2021-08-23T00:00:00+00:00\",\"2021-08-30T00:00:00+00:00\",\"2021-09-06T00:00:00+00:00\",\"2021-09-13T00:00:00+00:00\",\"2021-09-20T00:00:00+00:00\",\"2021-09-27T00:00:00+00:00\",\"2021-10-04T00:00:00+00:00\",\"2021-10-11T00:00:00+00:00\",\"2021-10-18T00:00:00+00:00\",\"2021-10-25T00:00:00+00:00\",\"2021-11-01T00:00:00+00:00\",\"2021-11-08T00:00:00+00:00\",\"2021-11-15T00:00:00+00:00\",\"2021-11-22T00:00:00+00:00\",\"2021-11-29T00:00:00+00:00\",\"2021-12-06T00:00:00+00:00\",\"2021-12-13T00:00:00+00:00\",\"2021-12-20T00:00:00+00:00\",\"2021-12-27T00:00:00+00:00\",\"2022-01-03T00:00:00+00:00\",\"2022-01-10T00:00:00+00:00\",\"2022-01-17T00:00:00+00:00\",\"2022-01-24T00:00:00+00:00\",\"2022-01-31T00:00:00+00:00\",\"2022-02-07T00:00:00+00:00\",\"2022-02-14T00:00:00+00:00\",\"2022-02-21T00:00:00+00:00\",\"2022-02-28T00:00:00+00:00\",\"2022-03-07T00:00:00+00:00\",\"2022-03-14T00:00:00+00:00\",\"2022-03-21T00:00:00+00:00\",\"2022-03-28T00:00:00+00:00\",\"2022-04-04T00:00:00+00:00\",\"2022-04-11T00:00:00+00:00\",\"2022-04-18T00:00:00+00:00\",\"2022-04-25T00:00:00+00:00\",\"2022-05-02T00:00:00+00:00\",\"2022-05-09T00:00:00+00:00\",\"2022-05-16T00:00:00+00:00\",\"2022-05-23T00:00:00+00:00\",\"2022-05-30T00:00:00+00:00\",\"2022-06-06T00:00:00+00:00\",\"2022-06-13T00:00:00+00:00\",\"2022-06-20T00:00:00+00:00\",\"2022-06-27T00:00:00+00:00\",\"2022-07-04T00:00:00+00:00\",\"2022-07-11T00:00:00+00:00\",\"2022-07-18T00:00:00+00:00\",\"2022-07-25T00:00:00+00:00\",\"2022-08-01T00:00:00+00:00\",\"2022-08-08T00:00:00+00:00\",\"2022-08-15T00:00:00+00:00\",\"2022-08-22T00:00:00+00:00\",\"2022-08-29T00:00:00+00:00\",\"2022-09-05T00:00:00+00:00\",\"2022-09-12T00:00:00+00:00\",\"2022-09-19T00:00:00+00:00\",\"2022-09-26T00:00:00+00:00\",\"2022-10-03T00:00:00+00:00\",\"2022-10-10T00:00:00+00:00\",\"2022-10-17T00:00:00+00:00\",\"2022-10-24T00:00:00+00:00\",\"2022-10-31T00:00:00+00:00\",\"2022-11-07T00:00:00+00:00\",\"2022-11-14T00:00:00+00:00\",\"2022-11-21T00:00:00+00:00\",\"2022-11-28T00:00:00+00:00\",\"2022-12-05T00:00:00+00:00\",\"2022-12-12T00:00:00+00:00\",\"2022-12-19T00:00:00+00:00\",\"2022-12-26T00:00:00+00:00\",\"2023-01-02T00:00:00+00:00\",\"2023-01-09T00:00:00+00:00\",\"2023-01-16T00:00:00+00:00\",\"2023-01-23T00:00:00+00:00\",\"2023-01-30T00:00:00+00:00\",\"2023-02-06T00:00:00+00:00\",\"2023-02-13T00:00:00+00:00\",\"2023-02-20T00:00:00+00:00\",\"2023-02-27T00:00:00+00:00\",\"2023-03-06T00:00:00+00:00\",\"2023-03-13T00:00:00+00:00\",\"2023-03-20T00:00:00+00:00\",\"2023-03-27T00:00:00+00:00\",\"2023-04-03T00:00:00+00:00\",\"2023-04-10T00:00:00+00:00\",\"2023-04-17T00:00:00+00:00\",\"2023-04-24T00:00:00+00:00\",\"2023-05-01T00:00:00+00:00\",\"2023-05-08T00:00:00+00:00\",\"2023-05-15T00:00:00+00:00\",\"2023-05-22T00:00:00+00:00\",\"2023-05-29T00:00:00+00:00\",\"2023-06-05T00:00:00+00:00\",\"2023-06-12T00:00:00+00:00\",\"2023-06-19T00:00:00+00:00\",\"2023-06-26T00:00:00+00:00\",\"2023-07-03T00:00:00+00:00\",\"2023-07-10T00:00:00+00:00\",\"2023-07-17T00:00:00+00:00\",\"2023-07-24T00:00:00+00:00\",\"2023-07-31T00:00:00+00:00\",\"2023-08-07T00:00:00+00:00\",\"2023-08-14T00:00:00+00:00\",\"2023-08-21T00:00:00+00:00\",\"2023-08-28T00:00:00+00:00\",\"2023-09-04T00:00:00+00:00\",\"2023-09-11T00:00:00+00:00\",\"2023-09-18T00:00:00+00:00\",\"2023-09-25T00:00:00+00:00\",\"2023-10-02T00:00:00+00:00\",\"2023-10-09T00:00:00+00:00\"],\"xaxis\":\"x\",\"y\":[339919,432396,361797,369954,413049,399045,447028,323401,296306,349774,257737,375942,398354,331385,383187,505871,481605,446824,429237,363369,463546,459806,453425,188962,351015,492198,433842,494052,353263,393607,523332,508826,372044,440349,594183,444608,301712,502429,577303,585130,497667,713236,576926,507286,470886,445834,496818,382166,437410,346002,341821,408035,506060,553272,289642,407737,414731,557123,519796,248889,582992,321547,453786,340658,418141,399501,541564,456238,389584,435979,392397,432836,437158,43253,505368,761832,641631,221856,603896,650055,513179,567952,649505,585491,794994,626952,457244,507097,424208,512166,592037,596741,613974,623345,598238,600017,562922,515843,608057,413681,473691,459629,506920,146542,424546,378716,304345,590057,249447,363329,306695,333209,467373,246869,449975,310019,522350,413819,359392,464254,318160,364453,390936,399085,455900,470674,435838,580879,507624,582961,1058773,646079,420664,159540,121647,110473,128484,138570,162275,190046,164860,203197,255600,199617,126138,206619,144979,131639,136032,179869,176671,166821,139462,112166,93652,77657],\"yaxis\":\"y\",\"type\":\"scatter\"}],                        {\"template\":{\"data\":{\"histogram2dcontour\":[{\"type\":\"histogram2dcontour\",\"colorbar\":{\"outlinewidth\":0,\"ticks\":\"\"},\"colorscale\":[[0.0,\"#0d0887\"],[0.1111111111111111,\"#46039f\"],[0.2222222222222222,\"#7201a8\"],[0.3333333333333333,\"#9c179e\"],[0.4444444444444444,\"#bd3786\"],[0.5555555555555556,\"#d8576b\"],[0.6666666666666666,\"#ed7953\"],[0.7777777777777778,\"#fb9f3a\"],[0.8888888888888888,\"#fdca26\"],[1.0,\"#f0f921\"]]}],\"choropleth\":[{\"type\":\"choropleth\",\"colorbar\":{\"outlinewidth\":0,\"ticks\":\"\"}}],\"histogram2d\":[{\"type\":\"histogram2d\",\"colorbar\":{\"outlinewidth\":0,\"ticks\":\"\"},\"colorscale\":[[0.0,\"#0d0887\"],[0.1111111111111111,\"#46039f\"],[0.2222222222222222,\"#7201a8\"],[0.3333333333333333,\"#9c179e\"],[0.4444444444444444,\"#bd3786\"],[0.5555555555555556,\"#d8576b\"],[0.6666666666666666,\"#ed7953\"],[0.7777777777777778,\"#fb9f3a\"],[0.8888888888888888,\"#fdca26\"],[1.0,\"#f0f921\"]]}],\"heatmap\":[{\"type\":\"heatmap\",\"colorbar\":{\"outlinewidth\":0,\"ticks\":\"\"},\"colorscale\":[[0.0,\"#0d0887\"],[0.1111111111111111,\"#46039f\"],[0.2222222222222222,\"#7201a8\"],[0.3333333333333333,\"#9c179e\"],[0.4444444444444444,\"#bd3786\"],[0.5555555555555556,\"#d8576b\"],[0.6666666666666666,\"#ed7953\"],[0.7777777777777778,\"#fb9f3a\"],[0.8888888888888888,\"#fdca26\"],[1.0,\"#f0f921\"]]}],\"heatmapgl\":[{\"type\":\"heatmapgl\",\"colorbar\":{\"outlinewidth\":0,\"ticks\":\"\"},\"colorscale\":[[0.0,\"#0d0887\"],[0.1111111111111111,\"#46039f\"],[0.2222222222222222,\"#7201a8\"],[0.3333333333333333,\"#9c179e\"],[0.4444444444444444,\"#bd3786\"],[0.5555555555555556,\"#d8576b\"],[0.6666666666666666,\"#ed7953\"],[0.7777777777777778,\"#fb9f3a\"],[0.8888888888888888,\"#fdca26\"],[1.0,\"#f0f921\"]]}],\"contourcarpet\":[{\"type\":\"contourcarpet\",\"colorbar\":{\"outlinewidth\":0,\"ticks\":\"\"}}],\"contour\":[{\"type\":\"contour\",\"colorbar\":{\"outlinewidth\":0,\"ticks\":\"\"},\"colorscale\":[[0.0,\"#0d0887\"],[0.1111111111111111,\"#46039f\"],[0.2222222222222222,\"#7201a8\"],[0.3333333333333333,\"#9c179e\"],[0.4444444444444444,\"#bd3786\"],[0.5555555555555556,\"#d8576b\"],[0.6666666666666666,\"#ed7953\"],[0.7777777777777778,\"#fb9f3a\"],[0.8888888888888888,\"#fdca26\"],[1.0,\"#f0f921\"]]}],\"surface\":[{\"type\":\"surface\",\"colorbar\":{\"outlinewidth\":0,\"ticks\":\"\"},\"colorscale\":[[0.0,\"#0d0887\"],[0.1111111111111111,\"#46039f\"],[0.2222222222222222,\"#7201a8\"],[0.3333333333333333,\"#9c179e\"],[0.4444444444444444,\"#bd3786\"],[0.5555555555555556,\"#d8576b\"],[0.6666666666666666,\"#ed7953\"],[0.7777777777777778,\"#fb9f3a\"],[0.8888888888888888,\"#fdca26\"],[1.0,\"#f0f921\"]]}],\"mesh3d\":[{\"type\":\"mesh3d\",\"colorbar\":{\"outlinewidth\":0,\"ticks\":\"\"}}],\"scatter\":[{\"fillpattern\":{\"fillmode\":\"overlay\",\"size\":10,\"solidity\":0.2},\"type\":\"scatter\"}],\"parcoords\":[{\"type\":\"parcoords\",\"line\":{\"colorbar\":{\"outlinewidth\":0,\"ticks\":\"\"}}}],\"scatterpolargl\":[{\"type\":\"scatterpolargl\",\"marker\":{\"colorbar\":{\"outlinewidth\":0,\"ticks\":\"\"}}}],\"bar\":[{\"error_x\":{\"color\":\"#2a3f5f\"},\"error_y\":{\"color\":\"#2a3f5f\"},\"marker\":{\"line\":{\"color\":\"#E5ECF6\",\"width\":0.5},\"pattern\":{\"fillmode\":\"overlay\",\"size\":10,\"solidity\":0.2}},\"type\":\"bar\"}],\"scattergeo\":[{\"type\":\"scattergeo\",\"marker\":{\"colorbar\":{\"outlinewidth\":0,\"ticks\":\"\"}}}],\"scatterpolar\":[{\"type\":\"scatterpolar\",\"marker\":{\"colorbar\":{\"outlinewidth\":0,\"ticks\":\"\"}}}],\"histogram\":[{\"marker\":{\"pattern\":{\"fillmode\":\"overlay\",\"size\":10,\"solidity\":0.2}},\"type\":\"histogram\"}],\"scattergl\":[{\"type\":\"scattergl\",\"marker\":{\"colorbar\":{\"outlinewidth\":0,\"ticks\":\"\"}}}],\"scatter3d\":[{\"type\":\"scatter3d\",\"line\":{\"colorbar\":{\"outlinewidth\":0,\"ticks\":\"\"}},\"marker\":{\"colorbar\":{\"outlinewidth\":0,\"ticks\":\"\"}}}],\"scattermapbox\":[{\"type\":\"scattermapbox\",\"marker\":{\"colorbar\":{\"outlinewidth\":0,\"ticks\":\"\"}}}],\"scatterternary\":[{\"type\":\"scatterternary\",\"marker\":{\"colorbar\":{\"outlinewidth\":0,\"ticks\":\"\"}}}],\"scattercarpet\":[{\"type\":\"scattercarpet\",\"marker\":{\"colorbar\":{\"outlinewidth\":0,\"ticks\":\"\"}}}],\"carpet\":[{\"aaxis\":{\"endlinecolor\":\"#2a3f5f\",\"gridcolor\":\"white\",\"linecolor\":\"white\",\"minorgridcolor\":\"white\",\"startlinecolor\":\"#2a3f5f\"},\"baxis\":{\"endlinecolor\":\"#2a3f5f\",\"gridcolor\":\"white\",\"linecolor\":\"white\",\"minorgridcolor\":\"white\",\"startlinecolor\":\"#2a3f5f\"},\"type\":\"carpet\"}],\"table\":[{\"cells\":{\"fill\":{\"color\":\"#EBF0F8\"},\"line\":{\"color\":\"white\"}},\"header\":{\"fill\":{\"color\":\"#C8D4E3\"},\"line\":{\"color\":\"white\"}},\"type\":\"table\"}],\"barpolar\":[{\"marker\":{\"line\":{\"color\":\"#E5ECF6\",\"width\":0.5},\"pattern\":{\"fillmode\":\"overlay\",\"size\":10,\"solidity\":0.2}},\"type\":\"barpolar\"}],\"pie\":[{\"automargin\":true,\"type\":\"pie\"}]},\"layout\":{\"autotypenumbers\":\"strict\",\"colorway\":[\"#636efa\",\"#EF553B\",\"#00cc96\",\"#ab63fa\",\"#FFA15A\",\"#19d3f3\",\"#FF6692\",\"#B6E880\",\"#FF97FF\",\"#FECB52\"],\"font\":{\"color\":\"#2a3f5f\"},\"hovermode\":\"closest\",\"hoverlabel\":{\"align\":\"left\"},\"paper_bgcolor\":\"white\",\"plot_bgcolor\":\"#E5ECF6\",\"polar\":{\"bgcolor\":\"#E5ECF6\",\"angularaxis\":{\"gridcolor\":\"white\",\"linecolor\":\"white\",\"ticks\":\"\"},\"radialaxis\":{\"gridcolor\":\"white\",\"linecolor\":\"white\",\"ticks\":\"\"}},\"ternary\":{\"bgcolor\":\"#E5ECF6\",\"aaxis\":{\"gridcolor\":\"white\",\"linecolor\":\"white\",\"ticks\":\"\"},\"baxis\":{\"gridcolor\":\"white\",\"linecolor\":\"white\",\"ticks\":\"\"},\"caxis\":{\"gridcolor\":\"white\",\"linecolor\":\"white\",\"ticks\":\"\"}},\"coloraxis\":{\"colorbar\":{\"outlinewidth\":0,\"ticks\":\"\"}},\"colorscale\":{\"sequential\":[[0.0,\"#0d0887\"],[0.1111111111111111,\"#46039f\"],[0.2222222222222222,\"#7201a8\"],[0.3333333333333333,\"#9c179e\"],[0.4444444444444444,\"#bd3786\"],[0.5555555555555556,\"#d8576b\"],[0.6666666666666666,\"#ed7953\"],[0.7777777777777778,\"#fb9f3a\"],[0.8888888888888888,\"#fdca26\"],[1.0,\"#f0f921\"]],\"sequentialminus\":[[0.0,\"#0d0887\"],[0.1111111111111111,\"#46039f\"],[0.2222222222222222,\"#7201a8\"],[0.3333333333333333,\"#9c179e\"],[0.4444444444444444,\"#bd3786\"],[0.5555555555555556,\"#d8576b\"],[0.6666666666666666,\"#ed7953\"],[0.7777777777777778,\"#fb9f3a\"],[0.8888888888888888,\"#fdca26\"],[1.0,\"#f0f921\"]],\"diverging\":[[0,\"#8e0152\"],[0.1,\"#c51b7d\"],[0.2,\"#de77ae\"],[0.3,\"#f1b6da\"],[0.4,\"#fde0ef\"],[0.5,\"#f7f7f7\"],[0.6,\"#e6f5d0\"],[0.7,\"#b8e186\"],[0.8,\"#7fbc41\"],[0.9,\"#4d9221\"],[1,\"#276419\"]]},\"xaxis\":{\"gridcolor\":\"white\",\"linecolor\":\"white\",\"ticks\":\"\",\"title\":{\"standoff\":15},\"zerolinecolor\":\"white\",\"automargin\":true,\"zerolinewidth\":2},\"yaxis\":{\"gridcolor\":\"white\",\"linecolor\":\"white\",\"ticks\":\"\",\"title\":{\"standoff\":15},\"zerolinecolor\":\"white\",\"automargin\":true,\"zerolinewidth\":2},\"scene\":{\"xaxis\":{\"backgroundcolor\":\"#E5ECF6\",\"gridcolor\":\"white\",\"linecolor\":\"white\",\"showbackground\":true,\"ticks\":\"\",\"zerolinecolor\":\"white\",\"gridwidth\":2},\"yaxis\":{\"backgroundcolor\":\"#E5ECF6\",\"gridcolor\":\"white\",\"linecolor\":\"white\",\"showbackground\":true,\"ticks\":\"\",\"zerolinecolor\":\"white\",\"gridwidth\":2},\"zaxis\":{\"backgroundcolor\":\"#E5ECF6\",\"gridcolor\":\"white\",\"linecolor\":\"white\",\"showbackground\":true,\"ticks\":\"\",\"zerolinecolor\":\"white\",\"gridwidth\":2}},\"shapedefaults\":{\"line\":{\"color\":\"#2a3f5f\"}},\"annotationdefaults\":{\"arrowcolor\":\"#2a3f5f\",\"arrowhead\":0,\"arrowwidth\":1},\"geo\":{\"bgcolor\":\"white\",\"landcolor\":\"#E5ECF6\",\"subunitcolor\":\"white\",\"showland\":true,\"showlakes\":true,\"lakecolor\":\"white\"},\"title\":{\"x\":0.05},\"mapbox\":{\"style\":\"light\"}}},\"xaxis\":{\"anchor\":\"y\",\"domain\":[0.0,1.0],\"title\":{\"text\":\"time_var\"}},\"yaxis\":{\"anchor\":\"x\",\"domain\":[0.0,1.0],\"title\":{\"text\":\"shipments\"}},\"legend\":{\"tracegroupgap\":0},\"title\":{\"text\":\"Original\"}},                        {\"responsive\": true}                    ).then(function(){\n",
       "                            \n",
       "var gd = document.getElementById('6fd37821-a795-4bdf-8847-f578029c92c4');\n",
       "var x = new MutationObserver(function (mutations, observer) {{\n",
       "        var display = window.getComputedStyle(gd).display;\n",
       "        if (!display || display === 'none') {{\n",
       "            console.log([gd, 'removed!']);\n",
       "            Plotly.purge(gd);\n",
       "            observer.disconnect();\n",
       "        }}\n",
       "}});\n",
       "\n",
       "// Listen for the removal of the full notebook cells\n",
       "var notebookContainer = gd.closest('#notebook-container');\n",
       "if (notebookContainer) {{\n",
       "    x.observe(notebookContainer, {childList: true});\n",
       "}}\n",
       "\n",
       "// Listen for the clearing of the current output cell\n",
       "var outputEl = gd.closest('.output');\n",
       "if (outputEl) {{\n",
       "    x.observe(outputEl, {childList: true});\n",
       "}}\n",
       "\n",
       "                        })                };                });            </script>        </div>"
      ]
     },
     "metadata": {},
     "output_type": "display_data"
    },
    {
     "data": {
      "application/vnd.plotly.v1+json": {
       "config": {
        "plotlyServerURL": "https://plot.ly"
       },
       "data": [
        {
         "hovertemplate": "time_var=%{x}<br>new_ship=%{y}<extra></extra>",
         "legendgroup": "",
         "line": {
          "color": "#636efa",
          "dash": "solid"
         },
         "marker": {
          "symbol": "circle"
         },
         "mode": "lines",
         "name": "",
         "orientation": "v",
         "showlegend": false,
         "type": "scatter",
         "x": [
          "2020-10-19T00:00:00+00:00",
          "2020-10-26T00:00:00+00:00",
          "2020-11-02T00:00:00+00:00",
          "2020-11-09T00:00:00+00:00",
          "2020-11-16T00:00:00+00:00",
          "2020-11-23T00:00:00+00:00",
          "2020-11-30T00:00:00+00:00",
          "2020-12-07T00:00:00+00:00",
          "2020-12-14T00:00:00+00:00",
          "2020-12-21T00:00:00+00:00",
          "2020-12-28T00:00:00+00:00",
          "2021-01-04T00:00:00+00:00",
          "2021-01-11T00:00:00+00:00",
          "2021-01-18T00:00:00+00:00",
          "2021-01-25T00:00:00+00:00",
          "2021-02-01T00:00:00+00:00",
          "2021-02-08T00:00:00+00:00",
          "2021-02-15T00:00:00+00:00",
          "2021-02-22T00:00:00+00:00",
          "2021-03-01T00:00:00+00:00",
          "2021-03-08T00:00:00+00:00",
          "2021-03-15T00:00:00+00:00",
          "2021-03-22T00:00:00+00:00",
          "2021-03-29T00:00:00+00:00",
          "2021-04-05T00:00:00+00:00",
          "2021-04-12T00:00:00+00:00",
          "2021-04-19T00:00:00+00:00",
          "2021-04-26T00:00:00+00:00",
          "2021-05-03T00:00:00+00:00",
          "2021-05-10T00:00:00+00:00",
          "2021-05-17T00:00:00+00:00",
          "2021-05-24T00:00:00+00:00",
          "2021-05-31T00:00:00+00:00",
          "2021-06-07T00:00:00+00:00",
          "2021-06-14T00:00:00+00:00",
          "2021-06-21T00:00:00+00:00",
          "2021-06-28T00:00:00+00:00",
          "2021-07-05T00:00:00+00:00",
          "2021-07-12T00:00:00+00:00",
          "2021-07-19T00:00:00+00:00",
          "2021-07-26T00:00:00+00:00",
          "2021-08-02T00:00:00+00:00",
          "2021-08-09T00:00:00+00:00",
          "2021-08-16T00:00:00+00:00",
          "2021-08-23T00:00:00+00:00",
          "2021-08-30T00:00:00+00:00",
          "2021-09-06T00:00:00+00:00",
          "2021-09-13T00:00:00+00:00",
          "2021-09-20T00:00:00+00:00",
          "2021-09-27T00:00:00+00:00",
          "2021-10-04T00:00:00+00:00",
          "2021-10-11T00:00:00+00:00",
          "2021-10-18T00:00:00+00:00",
          "2021-10-25T00:00:00+00:00",
          "2021-11-01T00:00:00+00:00",
          "2021-11-08T00:00:00+00:00",
          "2021-11-15T00:00:00+00:00",
          "2021-11-22T00:00:00+00:00",
          "2021-11-29T00:00:00+00:00",
          "2021-12-06T00:00:00+00:00",
          "2021-12-13T00:00:00+00:00",
          "2021-12-20T00:00:00+00:00",
          "2021-12-27T00:00:00+00:00",
          "2022-01-03T00:00:00+00:00",
          "2022-01-10T00:00:00+00:00",
          "2022-01-17T00:00:00+00:00",
          "2022-01-24T00:00:00+00:00",
          "2022-01-31T00:00:00+00:00",
          "2022-02-07T00:00:00+00:00",
          "2022-02-14T00:00:00+00:00",
          "2022-02-21T00:00:00+00:00",
          "2022-02-28T00:00:00+00:00",
          "2022-03-07T00:00:00+00:00",
          "2022-03-14T00:00:00+00:00",
          "2022-03-21T00:00:00+00:00",
          "2022-03-28T00:00:00+00:00",
          "2022-04-04T00:00:00+00:00",
          "2022-04-11T00:00:00+00:00",
          "2022-04-18T00:00:00+00:00",
          "2022-04-25T00:00:00+00:00",
          "2022-05-02T00:00:00+00:00",
          "2022-05-09T00:00:00+00:00",
          "2022-05-16T00:00:00+00:00",
          "2022-05-23T00:00:00+00:00",
          "2022-05-30T00:00:00+00:00",
          "2022-06-06T00:00:00+00:00",
          "2022-06-13T00:00:00+00:00",
          "2022-06-20T00:00:00+00:00",
          "2022-06-27T00:00:00+00:00",
          "2022-07-04T00:00:00+00:00",
          "2022-07-11T00:00:00+00:00",
          "2022-07-18T00:00:00+00:00",
          "2022-07-25T00:00:00+00:00",
          "2022-08-01T00:00:00+00:00",
          "2022-08-08T00:00:00+00:00",
          "2022-08-15T00:00:00+00:00",
          "2022-08-22T00:00:00+00:00",
          "2022-08-29T00:00:00+00:00",
          "2022-09-05T00:00:00+00:00",
          "2022-09-12T00:00:00+00:00",
          "2022-09-19T00:00:00+00:00",
          "2022-09-26T00:00:00+00:00",
          "2022-10-03T00:00:00+00:00",
          "2022-10-10T00:00:00+00:00",
          "2022-10-17T00:00:00+00:00",
          "2022-10-24T00:00:00+00:00",
          "2022-10-31T00:00:00+00:00",
          "2022-11-07T00:00:00+00:00",
          "2022-11-14T00:00:00+00:00",
          "2022-11-21T00:00:00+00:00",
          "2022-11-28T00:00:00+00:00",
          "2022-12-05T00:00:00+00:00",
          "2022-12-12T00:00:00+00:00",
          "2022-12-19T00:00:00+00:00",
          "2022-12-26T00:00:00+00:00",
          "2023-01-02T00:00:00+00:00",
          "2023-01-09T00:00:00+00:00",
          "2023-01-16T00:00:00+00:00",
          "2023-01-23T00:00:00+00:00",
          "2023-01-30T00:00:00+00:00",
          "2023-02-06T00:00:00+00:00",
          "2023-02-13T00:00:00+00:00",
          "2023-02-20T00:00:00+00:00",
          "2023-02-27T00:00:00+00:00",
          "2023-03-06T00:00:00+00:00",
          "2023-03-13T00:00:00+00:00",
          "2023-03-20T00:00:00+00:00",
          "2023-03-27T00:00:00+00:00",
          "2023-04-03T00:00:00+00:00",
          "2023-04-10T00:00:00+00:00",
          "2023-04-17T00:00:00+00:00",
          "2023-04-24T00:00:00+00:00",
          "2023-05-01T00:00:00+00:00",
          "2023-05-08T00:00:00+00:00",
          "2023-05-15T00:00:00+00:00",
          "2023-05-22T00:00:00+00:00",
          "2023-05-29T00:00:00+00:00",
          "2023-06-05T00:00:00+00:00",
          "2023-06-12T00:00:00+00:00",
          "2023-06-19T00:00:00+00:00",
          "2023-06-26T00:00:00+00:00",
          "2023-07-03T00:00:00+00:00",
          "2023-07-10T00:00:00+00:00",
          "2023-07-17T00:00:00+00:00",
          "2023-07-24T00:00:00+00:00",
          "2023-07-31T00:00:00+00:00",
          "2023-08-07T00:00:00+00:00",
          "2023-08-14T00:00:00+00:00",
          "2023-08-21T00:00:00+00:00",
          "2023-08-28T00:00:00+00:00",
          "2023-09-04T00:00:00+00:00",
          "2023-09-11T00:00:00+00:00",
          "2023-09-18T00:00:00+00:00",
          "2023-09-25T00:00:00+00:00",
          "2023-10-02T00:00:00+00:00",
          "2023-10-09T00:00:00+00:00"
         ],
         "xaxis": "x",
         "y": [
          339919,
          432396,
          361797,
          369954,
          413049,
          399045,
          447028,
          323401,
          296306,
          349774,
          257737,
          375942,
          398354,
          331385,
          383187,
          505871,
          481605,
          446824,
          429237,
          363369,
          463546,
          284928,
          453425,
          277938,
          351015,
          348266,
          433842,
          494052,
          353263,
          393607,
          523332,
          508826,
          509276,
          440349,
          594183,
          444608,
          301712,
          502429,
          577303,
          585130,
          497667,
          713236,
          576926,
          507286,
          470886,
          445834,
          496818,
          382166,
          437410,
          346002,
          341821,
          408035,
          506060,
          553272,
          289642,
          407737,
          414731,
          557123,
          519796,
          248889,
          582992,
          321547,
          453786,
          340658,
          418141,
          399501,
          541564,
          456238,
          389584,
          435979,
          392397,
          432836,
          437158,
          384354,
          505368,
          575336,
          641631,
          501562,
          770119,
          650055,
          513179,
          567952,
          649505,
          585491,
          513411,
          484995,
          457244,
          507097,
          424208,
          512166,
          592037,
          596741,
          613974,
          623345,
          598238,
          600017,
          562922,
          515843,
          608057,
          413681,
          473691,
          459629,
          506920,
          311371,
          424546,
          378716,
          304345,
          590057,
          249447,
          363329,
          306695,
          333209,
          467373,
          246869,
          449975,
          310019,
          522350,
          413819,
          359392,
          464254,
          318160,
          364453,
          390936,
          399085,
          455900,
          290646,
          435838,
          580879,
          507624,
          432504,
          1058773,
          646079,
          420664,
          159540,
          121647,
          110473,
          256780,
          138570,
          162275,
          190046,
          164860,
          203197,
          255600,
          199617,
          126138,
          206619,
          144979,
          131639,
          136032,
          179869,
          176671,
          166821,
          139462,
          112166,
          93652,
          77657
         ],
         "yaxis": "y"
        }
       ],
       "layout": {
        "autosize": true,
        "legend": {
         "tracegroupgap": 0
        },
        "template": {
         "data": {
          "bar": [
           {
            "error_x": {
             "color": "#2a3f5f"
            },
            "error_y": {
             "color": "#2a3f5f"
            },
            "marker": {
             "line": {
              "color": "#E5ECF6",
              "width": 0.5
             },
             "pattern": {
              "fillmode": "overlay",
              "size": 10,
              "solidity": 0.2
             }
            },
            "type": "bar"
           }
          ],
          "barpolar": [
           {
            "marker": {
             "line": {
              "color": "#E5ECF6",
              "width": 0.5
             },
             "pattern": {
              "fillmode": "overlay",
              "size": 10,
              "solidity": 0.2
             }
            },
            "type": "barpolar"
           }
          ],
          "carpet": [
           {
            "aaxis": {
             "endlinecolor": "#2a3f5f",
             "gridcolor": "white",
             "linecolor": "white",
             "minorgridcolor": "white",
             "startlinecolor": "#2a3f5f"
            },
            "baxis": {
             "endlinecolor": "#2a3f5f",
             "gridcolor": "white",
             "linecolor": "white",
             "minorgridcolor": "white",
             "startlinecolor": "#2a3f5f"
            },
            "type": "carpet"
           }
          ],
          "choropleth": [
           {
            "colorbar": {
             "outlinewidth": 0,
             "ticks": ""
            },
            "type": "choropleth"
           }
          ],
          "contour": [
           {
            "colorbar": {
             "outlinewidth": 0,
             "ticks": ""
            },
            "colorscale": [
             [
              0,
              "#0d0887"
             ],
             [
              0.1111111111111111,
              "#46039f"
             ],
             [
              0.2222222222222222,
              "#7201a8"
             ],
             [
              0.3333333333333333,
              "#9c179e"
             ],
             [
              0.4444444444444444,
              "#bd3786"
             ],
             [
              0.5555555555555556,
              "#d8576b"
             ],
             [
              0.6666666666666666,
              "#ed7953"
             ],
             [
              0.7777777777777778,
              "#fb9f3a"
             ],
             [
              0.8888888888888888,
              "#fdca26"
             ],
             [
              1,
              "#f0f921"
             ]
            ],
            "type": "contour"
           }
          ],
          "contourcarpet": [
           {
            "colorbar": {
             "outlinewidth": 0,
             "ticks": ""
            },
            "type": "contourcarpet"
           }
          ],
          "heatmap": [
           {
            "colorbar": {
             "outlinewidth": 0,
             "ticks": ""
            },
            "colorscale": [
             [
              0,
              "#0d0887"
             ],
             [
              0.1111111111111111,
              "#46039f"
             ],
             [
              0.2222222222222222,
              "#7201a8"
             ],
             [
              0.3333333333333333,
              "#9c179e"
             ],
             [
              0.4444444444444444,
              "#bd3786"
             ],
             [
              0.5555555555555556,
              "#d8576b"
             ],
             [
              0.6666666666666666,
              "#ed7953"
             ],
             [
              0.7777777777777778,
              "#fb9f3a"
             ],
             [
              0.8888888888888888,
              "#fdca26"
             ],
             [
              1,
              "#f0f921"
             ]
            ],
            "type": "heatmap"
           }
          ],
          "heatmapgl": [
           {
            "colorbar": {
             "outlinewidth": 0,
             "ticks": ""
            },
            "colorscale": [
             [
              0,
              "#0d0887"
             ],
             [
              0.1111111111111111,
              "#46039f"
             ],
             [
              0.2222222222222222,
              "#7201a8"
             ],
             [
              0.3333333333333333,
              "#9c179e"
             ],
             [
              0.4444444444444444,
              "#bd3786"
             ],
             [
              0.5555555555555556,
              "#d8576b"
             ],
             [
              0.6666666666666666,
              "#ed7953"
             ],
             [
              0.7777777777777778,
              "#fb9f3a"
             ],
             [
              0.8888888888888888,
              "#fdca26"
             ],
             [
              1,
              "#f0f921"
             ]
            ],
            "type": "heatmapgl"
           }
          ],
          "histogram": [
           {
            "marker": {
             "pattern": {
              "fillmode": "overlay",
              "size": 10,
              "solidity": 0.2
             }
            },
            "type": "histogram"
           }
          ],
          "histogram2d": [
           {
            "colorbar": {
             "outlinewidth": 0,
             "ticks": ""
            },
            "colorscale": [
             [
              0,
              "#0d0887"
             ],
             [
              0.1111111111111111,
              "#46039f"
             ],
             [
              0.2222222222222222,
              "#7201a8"
             ],
             [
              0.3333333333333333,
              "#9c179e"
             ],
             [
              0.4444444444444444,
              "#bd3786"
             ],
             [
              0.5555555555555556,
              "#d8576b"
             ],
             [
              0.6666666666666666,
              "#ed7953"
             ],
             [
              0.7777777777777778,
              "#fb9f3a"
             ],
             [
              0.8888888888888888,
              "#fdca26"
             ],
             [
              1,
              "#f0f921"
             ]
            ],
            "type": "histogram2d"
           }
          ],
          "histogram2dcontour": [
           {
            "colorbar": {
             "outlinewidth": 0,
             "ticks": ""
            },
            "colorscale": [
             [
              0,
              "#0d0887"
             ],
             [
              0.1111111111111111,
              "#46039f"
             ],
             [
              0.2222222222222222,
              "#7201a8"
             ],
             [
              0.3333333333333333,
              "#9c179e"
             ],
             [
              0.4444444444444444,
              "#bd3786"
             ],
             [
              0.5555555555555556,
              "#d8576b"
             ],
             [
              0.6666666666666666,
              "#ed7953"
             ],
             [
              0.7777777777777778,
              "#fb9f3a"
             ],
             [
              0.8888888888888888,
              "#fdca26"
             ],
             [
              1,
              "#f0f921"
             ]
            ],
            "type": "histogram2dcontour"
           }
          ],
          "mesh3d": [
           {
            "colorbar": {
             "outlinewidth": 0,
             "ticks": ""
            },
            "type": "mesh3d"
           }
          ],
          "parcoords": [
           {
            "line": {
             "colorbar": {
              "outlinewidth": 0,
              "ticks": ""
             }
            },
            "type": "parcoords"
           }
          ],
          "pie": [
           {
            "automargin": true,
            "type": "pie"
           }
          ],
          "scatter": [
           {
            "fillpattern": {
             "fillmode": "overlay",
             "size": 10,
             "solidity": 0.2
            },
            "type": "scatter"
           }
          ],
          "scatter3d": [
           {
            "line": {
             "colorbar": {
              "outlinewidth": 0,
              "ticks": ""
             }
            },
            "marker": {
             "colorbar": {
              "outlinewidth": 0,
              "ticks": ""
             }
            },
            "type": "scatter3d"
           }
          ],
          "scattercarpet": [
           {
            "marker": {
             "colorbar": {
              "outlinewidth": 0,
              "ticks": ""
             }
            },
            "type": "scattercarpet"
           }
          ],
          "scattergeo": [
           {
            "marker": {
             "colorbar": {
              "outlinewidth": 0,
              "ticks": ""
             }
            },
            "type": "scattergeo"
           }
          ],
          "scattergl": [
           {
            "marker": {
             "colorbar": {
              "outlinewidth": 0,
              "ticks": ""
             }
            },
            "type": "scattergl"
           }
          ],
          "scattermapbox": [
           {
            "marker": {
             "colorbar": {
              "outlinewidth": 0,
              "ticks": ""
             }
            },
            "type": "scattermapbox"
           }
          ],
          "scatterpolar": [
           {
            "marker": {
             "colorbar": {
              "outlinewidth": 0,
              "ticks": ""
             }
            },
            "type": "scatterpolar"
           }
          ],
          "scatterpolargl": [
           {
            "marker": {
             "colorbar": {
              "outlinewidth": 0,
              "ticks": ""
             }
            },
            "type": "scatterpolargl"
           }
          ],
          "scatterternary": [
           {
            "marker": {
             "colorbar": {
              "outlinewidth": 0,
              "ticks": ""
             }
            },
            "type": "scatterternary"
           }
          ],
          "surface": [
           {
            "colorbar": {
             "outlinewidth": 0,
             "ticks": ""
            },
            "colorscale": [
             [
              0,
              "#0d0887"
             ],
             [
              0.1111111111111111,
              "#46039f"
             ],
             [
              0.2222222222222222,
              "#7201a8"
             ],
             [
              0.3333333333333333,
              "#9c179e"
             ],
             [
              0.4444444444444444,
              "#bd3786"
             ],
             [
              0.5555555555555556,
              "#d8576b"
             ],
             [
              0.6666666666666666,
              "#ed7953"
             ],
             [
              0.7777777777777778,
              "#fb9f3a"
             ],
             [
              0.8888888888888888,
              "#fdca26"
             ],
             [
              1,
              "#f0f921"
             ]
            ],
            "type": "surface"
           }
          ],
          "table": [
           {
            "cells": {
             "fill": {
              "color": "#EBF0F8"
             },
             "line": {
              "color": "white"
             }
            },
            "header": {
             "fill": {
              "color": "#C8D4E3"
             },
             "line": {
              "color": "white"
             }
            },
            "type": "table"
           }
          ]
         },
         "layout": {
          "annotationdefaults": {
           "arrowcolor": "#2a3f5f",
           "arrowhead": 0,
           "arrowwidth": 1
          },
          "autotypenumbers": "strict",
          "coloraxis": {
           "colorbar": {
            "outlinewidth": 0,
            "ticks": ""
           }
          },
          "colorscale": {
           "diverging": [
            [
             0,
             "#8e0152"
            ],
            [
             0.1,
             "#c51b7d"
            ],
            [
             0.2,
             "#de77ae"
            ],
            [
             0.3,
             "#f1b6da"
            ],
            [
             0.4,
             "#fde0ef"
            ],
            [
             0.5,
             "#f7f7f7"
            ],
            [
             0.6,
             "#e6f5d0"
            ],
            [
             0.7,
             "#b8e186"
            ],
            [
             0.8,
             "#7fbc41"
            ],
            [
             0.9,
             "#4d9221"
            ],
            [
             1,
             "#276419"
            ]
           ],
           "sequential": [
            [
             0,
             "#0d0887"
            ],
            [
             0.1111111111111111,
             "#46039f"
            ],
            [
             0.2222222222222222,
             "#7201a8"
            ],
            [
             0.3333333333333333,
             "#9c179e"
            ],
            [
             0.4444444444444444,
             "#bd3786"
            ],
            [
             0.5555555555555556,
             "#d8576b"
            ],
            [
             0.6666666666666666,
             "#ed7953"
            ],
            [
             0.7777777777777778,
             "#fb9f3a"
            ],
            [
             0.8888888888888888,
             "#fdca26"
            ],
            [
             1,
             "#f0f921"
            ]
           ],
           "sequentialminus": [
            [
             0,
             "#0d0887"
            ],
            [
             0.1111111111111111,
             "#46039f"
            ],
            [
             0.2222222222222222,
             "#7201a8"
            ],
            [
             0.3333333333333333,
             "#9c179e"
            ],
            [
             0.4444444444444444,
             "#bd3786"
            ],
            [
             0.5555555555555556,
             "#d8576b"
            ],
            [
             0.6666666666666666,
             "#ed7953"
            ],
            [
             0.7777777777777778,
             "#fb9f3a"
            ],
            [
             0.8888888888888888,
             "#fdca26"
            ],
            [
             1,
             "#f0f921"
            ]
           ]
          },
          "colorway": [
           "#636efa",
           "#EF553B",
           "#00cc96",
           "#ab63fa",
           "#FFA15A",
           "#19d3f3",
           "#FF6692",
           "#B6E880",
           "#FF97FF",
           "#FECB52"
          ],
          "font": {
           "color": "#2a3f5f"
          },
          "geo": {
           "bgcolor": "white",
           "lakecolor": "white",
           "landcolor": "#E5ECF6",
           "showlakes": true,
           "showland": true,
           "subunitcolor": "white"
          },
          "hoverlabel": {
           "align": "left"
          },
          "hovermode": "closest",
          "mapbox": {
           "style": "light"
          },
          "paper_bgcolor": "white",
          "plot_bgcolor": "#E5ECF6",
          "polar": {
           "angularaxis": {
            "gridcolor": "white",
            "linecolor": "white",
            "ticks": ""
           },
           "bgcolor": "#E5ECF6",
           "radialaxis": {
            "gridcolor": "white",
            "linecolor": "white",
            "ticks": ""
           }
          },
          "scene": {
           "xaxis": {
            "backgroundcolor": "#E5ECF6",
            "gridcolor": "white",
            "gridwidth": 2,
            "linecolor": "white",
            "showbackground": true,
            "ticks": "",
            "zerolinecolor": "white"
           },
           "yaxis": {
            "backgroundcolor": "#E5ECF6",
            "gridcolor": "white",
            "gridwidth": 2,
            "linecolor": "white",
            "showbackground": true,
            "ticks": "",
            "zerolinecolor": "white"
           },
           "zaxis": {
            "backgroundcolor": "#E5ECF6",
            "gridcolor": "white",
            "gridwidth": 2,
            "linecolor": "white",
            "showbackground": true,
            "ticks": "",
            "zerolinecolor": "white"
           }
          },
          "shapedefaults": {
           "line": {
            "color": "#2a3f5f"
           }
          },
          "ternary": {
           "aaxis": {
            "gridcolor": "white",
            "linecolor": "white",
            "ticks": ""
           },
           "baxis": {
            "gridcolor": "white",
            "linecolor": "white",
            "ticks": ""
           },
           "bgcolor": "#E5ECF6",
           "caxis": {
            "gridcolor": "white",
            "linecolor": "white",
            "ticks": ""
           }
          },
          "title": {
           "x": 0.05
          },
          "xaxis": {
           "automargin": true,
           "gridcolor": "white",
           "linecolor": "white",
           "ticks": "",
           "title": {
            "standoff": 15
           },
           "zerolinecolor": "white",
           "zerolinewidth": 2
          },
          "yaxis": {
           "automargin": true,
           "gridcolor": "white",
           "linecolor": "white",
           "ticks": "",
           "title": {
            "standoff": 15
           },
           "zerolinecolor": "white",
           "zerolinewidth": 2
          }
         }
        },
        "title": {
         "text": "Winsorized"
        },
        "xaxis": {
         "anchor": "y",
         "autorange": true,
         "domain": [
          0,
          1
         ],
         "range": [
          "2020-10-19",
          "2023-10-09"
         ],
         "title": {
          "text": "time_var"
         },
         "type": "date"
        },
        "yaxis": {
         "anchor": "x",
         "autorange": true,
         "domain": [
          0,
          1
         ],
         "range": [
          23150.555555555555,
          1113279.4444444445
         ],
         "title": {
          "text": "new_ship"
         },
         "type": "linear"
        }
       }
      },
      "image/png": "[encoded data removed]",
      "text/html": [
       "<div>                            <div id=\"774e39fe-2ac8-4aef-b60c-e646318ff9f1\" class=\"plotly-graph-div\" style=\"height:525px; width:100%;\"></div>            <script type=\"text/javascript\">                require([\"plotly\"], function(Plotly) {                    window.PLOTLYENV=window.PLOTLYENV || {};                                    if (document.getElementById(\"774e39fe-2ac8-4aef-b60c-e646318ff9f1\")) {                    Plotly.newPlot(                        \"774e39fe-2ac8-4aef-b60c-e646318ff9f1\",                        [{\"hovertemplate\":\"time_var=%{x}\\u003cbr\\u003enew_ship=%{y}\\u003cextra\\u003e\\u003c\\u002fextra\\u003e\",\"legendgroup\":\"\",\"line\":{\"color\":\"#636efa\",\"dash\":\"solid\"},\"marker\":{\"symbol\":\"circle\"},\"mode\":\"lines\",\"name\":\"\",\"orientation\":\"v\",\"showlegend\":false,\"x\":[\"2020-10-19T00:00:00+00:00\",\"2020-10-26T00:00:00+00:00\",\"2020-11-02T00:00:00+00:00\",\"2020-11-09T00:00:00+00:00\",\"2020-11-16T00:00:00+00:00\",\"2020-11-23T00:00:00+00:00\",\"2020-11-30T00:00:00+00:00\",\"2020-12-07T00:00:00+00:00\",\"2020-12-14T00:00:00+00:00\",\"2020-12-21T00:00:00+00:00\",\"2020-12-28T00:00:00+00:00\",\"2021-01-04T00:00:00+00:00\",\"2021-01-11T00:00:00+00:00\",\"2021-01-18T00:00:00+00:00\",\"2021-01-25T00:00:00+00:00\",\"2021-02-01T00:00:00+00:00\",\"2021-02-08T00:00:00+00:00\",\"2021-02-15T00:00:00+00:00\",\"2021-02-22T00:00:00+00:00\",\"2021-03-01T00:00:00+00:00\",\"2021-03-08T00:00:00+00:00\",\"2021-03-15T00:00:00+00:00\",\"2021-03-22T00:00:00+00:00\",\"2021-03-29T00:00:00+00:00\",\"2021-04-05T00:00:00+00:00\",\"2021-04-12T00:00:00+00:00\",\"2021-04-19T00:00:00+00:00\",\"2021-04-26T00:00:00+00:00\",\"2021-05-03T00:00:00+00:00\",\"2021-05-10T00:00:00+00:00\",\"2021-05-17T00:00:00+00:00\",\"2021-05-24T00:00:00+00:00\",\"2021-05-31T00:00:00+00:00\",\"2021-06-07T00:00:00+00:00\",\"2021-06-14T00:00:00+00:00\",\"2021-06-21T00:00:00+00:00\",\"2021-06-28T00:00:00+00:00\",\"2021-07-05T00:00:00+00:00\",\"2021-07-12T00:00:00+00:00\",\"2021-07-19T00:00:00+00:00\",\"2021-07-26T00:00:00+00:00\",\"2021-08-02T00:00:00+00:00\",\"2021-08-09T00:00:00+00:00\",\"2021-08-16T00:00:00+00:00\",\"2021-08-23T00:00:00+00:00\",\"2021-08-30T00:00:00+00:00\",\"2021-09-06T00:00:00+00:00\",\"2021-09-13T00:00:00+00:00\",\"2021-09-20T00:00:00+00:00\",\"2021-09-27T00:00:00+00:00\",\"2021-10-04T00:00:00+00:00\",\"2021-10-11T00:00:00+00:00\",\"2021-10-18T00:00:00+00:00\",\"2021-10-25T00:00:00+00:00\",\"2021-11-01T00:00:00+00:00\",\"2021-11-08T00:00:00+00:00\",\"2021-11-15T00:00:00+00:00\",\"2021-11-22T00:00:00+00:00\",\"2021-11-29T00:00:00+00:00\",\"2021-12-06T00:00:00+00:00\",\"2021-12-13T00:00:00+00:00\",\"2021-12-20T00:00:00+00:00\",\"2021-12-27T00:00:00+00:00\",\"2022-01-03T00:00:00+00:00\",\"2022-01-10T00:00:00+00:00\",\"2022-01-17T00:00:00+00:00\",\"2022-01-24T00:00:00+00:00\",\"2022-01-31T00:00:00+00:00\",\"2022-02-07T00:00:00+00:00\",\"2022-02-14T00:00:00+00:00\",\"2022-02-21T00:00:00+00:00\",\"2022-02-28T00:00:00+00:00\",\"2022-03-07T00:00:00+00:00\",\"2022-03-14T00:00:00+00:00\",\"2022-03-21T00:00:00+00:00\",\"2022-03-28T00:00:00+00:00\",\"2022-04-04T00:00:00+00:00\",\"2022-04-11T00:00:00+00:00\",\"2022-04-18T00:00:00+00:00\",\"2022-04-25T00:00:00+00:00\",\"2022-05-02T00:00:00+00:00\",\"2022-05-09T00:00:00+00:00\",\"2022-05-16T00:00:00+00:00\",\"2022-05-23T00:00:00+00:00\",\"2022-05-30T00:00:00+00:00\",\"2022-06-06T00:00:00+00:00\",\"2022-06-13T00:00:00+00:00\",\"2022-06-20T00:00:00+00:00\",\"2022-06-27T00:00:00+00:00\",\"2022-07-04T00:00:00+00:00\",\"2022-07-11T00:00:00+00:00\",\"2022-07-18T00:00:00+00:00\",\"2022-07-25T00:00:00+00:00\",\"2022-08-01T00:00:00+00:00\",\"2022-08-08T00:00:00+00:00\",\"2022-08-15T00:00:00+00:00\",\"2022-08-22T00:00:00+00:00\",\"2022-08-29T00:00:00+00:00\",\"2022-09-05T00:00:00+00:00\",\"2022-09-12T00:00:00+00:00\",\"2022-09-19T00:00:00+00:00\",\"2022-09-26T00:00:00+00:00\",\"2022-10-03T00:00:00+00:00\",\"2022-10-10T00:00:00+00:00\",\"2022-10-17T00:00:00+00:00\",\"2022-10-24T00:00:00+00:00\",\"2022-10-31T00:00:00+00:00\",\"2022-11-07T00:00:00+00:00\",\"2022-11-14T00:00:00+00:00\",\"2022-11-21T00:00:00+00:00\",\"2022-11-28T00:00:00+00:00\",\"2022-12-05T00:00:00+00:00\",\"2022-12-12T00:00:00+00:00\",\"2022-12-19T00:00:00+00:00\",\"2022-12-26T00:00:00+00:00\",\"2023-01-02T00:00:00+00:00\",\"2023-01-09T00:00:00+00:00\",\"2023-01-16T00:00:00+00:00\",\"2023-01-23T00:00:00+00:00\",\"2023-01-30T00:00:00+00:00\",\"2023-02-06T00:00:00+00:00\",\"2023-02-13T00:00:00+00:00\",\"2023-02-20T00:00:00+00:00\",\"2023-02-27T00:00:00+00:00\",\"2023-03-06T00:00:00+00:00\",\"2023-03-13T00:00:00+00:00\",\"2023-03-20T00:00:00+00:00\",\"2023-03-27T00:00:00+00:00\",\"2023-04-03T00:00:00+00:00\",\"2023-04-10T00:00:00+00:00\",\"2023-04-17T00:00:00+00:00\",\"2023-04-24T00:00:00+00:00\",\"2023-05-01T00:00:00+00:00\",\"2023-05-08T00:00:00+00:00\",\"2023-05-15T00:00:00+00:00\",\"2023-05-22T00:00:00+00:00\",\"2023-05-29T00:00:00+00:00\",\"2023-06-05T00:00:00+00:00\",\"2023-06-12T00:00:00+00:00\",\"2023-06-19T00:00:00+00:00\",\"2023-06-26T00:00:00+00:00\",\"2023-07-03T00:00:00+00:00\",\"2023-07-10T00:00:00+00:00\",\"2023-07-17T00:00:00+00:00\",\"2023-07-24T00:00:00+00:00\",\"2023-07-31T00:00:00+00:00\",\"2023-08-07T00:00:00+00:00\",\"2023-08-14T00:00:00+00:00\",\"2023-08-21T00:00:00+00:00\",\"2023-08-28T00:00:00+00:00\",\"2023-09-04T00:00:00+00:00\",\"2023-09-11T00:00:00+00:00\",\"2023-09-18T00:00:00+00:00\",\"2023-09-25T00:00:00+00:00\",\"2023-10-02T00:00:00+00:00\",\"2023-10-09T00:00:00+00:00\"],\"xaxis\":\"x\",\"y\":[339919.0,432396.0,361797.0,369954.0,413049.0,399045.0,447028.0,323401.0,296306.0,349774.0,257737.0,375942.0,398354.0,331385.0,383187.0,505871.0,481605.0,446824.0,429237.0,363369.0,463546.0,284928.0,453425.0,277938.0,351015.0,348266.0,433842.0,494052.0,353263.0,393607.0,523332.0,508826.0,509276.0,440349.0,594183.0,444608.0,301712.0,502429.0,577303.0,585130.0,497667.0,713236.0,576926.0,507286.0,470886.0,445834.0,496818.0,382166.0,437410.0,346002.0,341821.0,408035.0,506060.0,553272.0,289642.0,407737.0,414731.0,557123.0,519796.0,248889.0,582992.0,321547.0,453786.0,340658.0,418141.0,399501.0,541564.0,456238.0,389584.0,435979.0,392397.0,432836.0,437158.0,384354.0,505368.0,575336.0,641631.0,501562.0,770119.0,650055.0,513179.0,567952.0,649505.0,585491.0,513411.0,484995.0,457244.0,507097.0,424208.0,512166.0,592037.0,596741.0,613974.0,623345.0,598238.0,600017.0,562922.0,515843.0,608057.0,413681.0,473691.0,459629.0,506920.0,311371.0,424546.0,378716.0,304345.0,590057.0,249447.0,363329.0,306695.0,333209.0,467373.0,246869.0,449975.0,310019.0,522350.0,413819.0,359392.0,464254.0,318160.0,364453.0,390936.0,399085.0,455900.0,290646.0,435838.0,580879.0,507624.0,432504.0,1058773.0,646079.0,420664.0,159540.0,121647.0,110473.0,256780.0,138570.0,162275.0,190046.0,164860.0,203197.0,255600.0,199617.0,126138.0,206619.0,144979.0,131639.0,136032.0,179869.0,176671.0,166821.0,139462.0,112166.0,93652.0,77657.0],\"yaxis\":\"y\",\"type\":\"scatter\"}],                        {\"template\":{\"data\":{\"histogram2dcontour\":[{\"type\":\"histogram2dcontour\",\"colorbar\":{\"outlinewidth\":0,\"ticks\":\"\"},\"colorscale\":[[0.0,\"#0d0887\"],[0.1111111111111111,\"#46039f\"],[0.2222222222222222,\"#7201a8\"],[0.3333333333333333,\"#9c179e\"],[0.4444444444444444,\"#bd3786\"],[0.5555555555555556,\"#d8576b\"],[0.6666666666666666,\"#ed7953\"],[0.7777777777777778,\"#fb9f3a\"],[0.8888888888888888,\"#fdca26\"],[1.0,\"#f0f921\"]]}],\"choropleth\":[{\"type\":\"choropleth\",\"colorbar\":{\"outlinewidth\":0,\"ticks\":\"\"}}],\"histogram2d\":[{\"type\":\"histogram2d\",\"colorbar\":{\"outlinewidth\":0,\"ticks\":\"\"},\"colorscale\":[[0.0,\"#0d0887\"],[0.1111111111111111,\"#46039f\"],[0.2222222222222222,\"#7201a8\"],[0.3333333333333333,\"#9c179e\"],[0.4444444444444444,\"#bd3786\"],[0.5555555555555556,\"#d8576b\"],[0.6666666666666666,\"#ed7953\"],[0.7777777777777778,\"#fb9f3a\"],[0.8888888888888888,\"#fdca26\"],[1.0,\"#f0f921\"]]}],\"heatmap\":[{\"type\":\"heatmap\",\"colorbar\":{\"outlinewidth\":0,\"ticks\":\"\"},\"colorscale\":[[0.0,\"#0d0887\"],[0.1111111111111111,\"#46039f\"],[0.2222222222222222,\"#7201a8\"],[0.3333333333333333,\"#9c179e\"],[0.4444444444444444,\"#bd3786\"],[0.5555555555555556,\"#d8576b\"],[0.6666666666666666,\"#ed7953\"],[0.7777777777777778,\"#fb9f3a\"],[0.8888888888888888,\"#fdca26\"],[1.0,\"#f0f921\"]]}],\"heatmapgl\":[{\"type\":\"heatmapgl\",\"colorbar\":{\"outlinewidth\":0,\"ticks\":\"\"},\"colorscale\":[[0.0,\"#0d0887\"],[0.1111111111111111,\"#46039f\"],[0.2222222222222222,\"#7201a8\"],[0.3333333333333333,\"#9c179e\"],[0.4444444444444444,\"#bd3786\"],[0.5555555555555556,\"#d8576b\"],[0.6666666666666666,\"#ed7953\"],[0.7777777777777778,\"#fb9f3a\"],[0.8888888888888888,\"#fdca26\"],[1.0,\"#f0f921\"]]}],\"contourcarpet\":[{\"type\":\"contourcarpet\",\"colorbar\":{\"outlinewidth\":0,\"ticks\":\"\"}}],\"contour\":[{\"type\":\"contour\",\"colorbar\":{\"outlinewidth\":0,\"ticks\":\"\"},\"colorscale\":[[0.0,\"#0d0887\"],[0.1111111111111111,\"#46039f\"],[0.2222222222222222,\"#7201a8\"],[0.3333333333333333,\"#9c179e\"],[0.4444444444444444,\"#bd3786\"],[0.5555555555555556,\"#d8576b\"],[0.6666666666666666,\"#ed7953\"],[0.7777777777777778,\"#fb9f3a\"],[0.8888888888888888,\"#fdca26\"],[1.0,\"#f0f921\"]]}],\"surface\":[{\"type\":\"surface\",\"colorbar\":{\"outlinewidth\":0,\"ticks\":\"\"},\"colorscale\":[[0.0,\"#0d0887\"],[0.1111111111111111,\"#46039f\"],[0.2222222222222222,\"#7201a8\"],[0.3333333333333333,\"#9c179e\"],[0.4444444444444444,\"#bd3786\"],[0.5555555555555556,\"#d8576b\"],[0.6666666666666666,\"#ed7953\"],[0.7777777777777778,\"#fb9f3a\"],[0.8888888888888888,\"#fdca26\"],[1.0,\"#f0f921\"]]}],\"mesh3d\":[{\"type\":\"mesh3d\",\"colorbar\":{\"outlinewidth\":0,\"ticks\":\"\"}}],\"scatter\":[{\"fillpattern\":{\"fillmode\":\"overlay\",\"size\":10,\"solidity\":0.2},\"type\":\"scatter\"}],\"parcoords\":[{\"type\":\"parcoords\",\"line\":{\"colorbar\":{\"outlinewidth\":0,\"ticks\":\"\"}}}],\"scatterpolargl\":[{\"type\":\"scatterpolargl\",\"marker\":{\"colorbar\":{\"outlinewidth\":0,\"ticks\":\"\"}}}],\"bar\":[{\"error_x\":{\"color\":\"#2a3f5f\"},\"error_y\":{\"color\":\"#2a3f5f\"},\"marker\":{\"line\":{\"color\":\"#E5ECF6\",\"width\":0.5},\"pattern\":{\"fillmode\":\"overlay\",\"size\":10,\"solidity\":0.2}},\"type\":\"bar\"}],\"scattergeo\":[{\"type\":\"scattergeo\",\"marker\":{\"colorbar\":{\"outlinewidth\":0,\"ticks\":\"\"}}}],\"scatterpolar\":[{\"type\":\"scatterpolar\",\"marker\":{\"colorbar\":{\"outlinewidth\":0,\"ticks\":\"\"}}}],\"histogram\":[{\"marker\":{\"pattern\":{\"fillmode\":\"overlay\",\"size\":10,\"solidity\":0.2}},\"type\":\"histogram\"}],\"scattergl\":[{\"type\":\"scattergl\",\"marker\":{\"colorbar\":{\"outlinewidth\":0,\"ticks\":\"\"}}}],\"scatter3d\":[{\"type\":\"scatter3d\",\"line\":{\"colorbar\":{\"outlinewidth\":0,\"ticks\":\"\"}},\"marker\":{\"colorbar\":{\"outlinewidth\":0,\"ticks\":\"\"}}}],\"scattermapbox\":[{\"type\":\"scattermapbox\",\"marker\":{\"colorbar\":{\"outlinewidth\":0,\"ticks\":\"\"}}}],\"scatterternary\":[{\"type\":\"scatterternary\",\"marker\":{\"colorbar\":{\"outlinewidth\":0,\"ticks\":\"\"}}}],\"scattercarpet\":[{\"type\":\"scattercarpet\",\"marker\":{\"colorbar\":{\"outlinewidth\":0,\"ticks\":\"\"}}}],\"carpet\":[{\"aaxis\":{\"endlinecolor\":\"#2a3f5f\",\"gridcolor\":\"white\",\"linecolor\":\"white\",\"minorgridcolor\":\"white\",\"startlinecolor\":\"#2a3f5f\"},\"baxis\":{\"endlinecolor\":\"#2a3f5f\",\"gridcolor\":\"white\",\"linecolor\":\"white\",\"minorgridcolor\":\"white\",\"startlinecolor\":\"#2a3f5f\"},\"type\":\"carpet\"}],\"table\":[{\"cells\":{\"fill\":{\"color\":\"#EBF0F8\"},\"line\":{\"color\":\"white\"}},\"header\":{\"fill\":{\"color\":\"#C8D4E3\"},\"line\":{\"color\":\"white\"}},\"type\":\"table\"}],\"barpolar\":[{\"marker\":{\"line\":{\"color\":\"#E5ECF6\",\"width\":0.5},\"pattern\":{\"fillmode\":\"overlay\",\"size\":10,\"solidity\":0.2}},\"type\":\"barpolar\"}],\"pie\":[{\"automargin\":true,\"type\":\"pie\"}]},\"layout\":{\"autotypenumbers\":\"strict\",\"colorway\":[\"#636efa\",\"#EF553B\",\"#00cc96\",\"#ab63fa\",\"#FFA15A\",\"#19d3f3\",\"#FF6692\",\"#B6E880\",\"#FF97FF\",\"#FECB52\"],\"font\":{\"color\":\"#2a3f5f\"},\"hovermode\":\"closest\",\"hoverlabel\":{\"align\":\"left\"},\"paper_bgcolor\":\"white\",\"plot_bgcolor\":\"#E5ECF6\",\"polar\":{\"bgcolor\":\"#E5ECF6\",\"angularaxis\":{\"gridcolor\":\"white\",\"linecolor\":\"white\",\"ticks\":\"\"},\"radialaxis\":{\"gridcolor\":\"white\",\"linecolor\":\"white\",\"ticks\":\"\"}},\"ternary\":{\"bgcolor\":\"#E5ECF6\",\"aaxis\":{\"gridcolor\":\"white\",\"linecolor\":\"white\",\"ticks\":\"\"},\"baxis\":{\"gridcolor\":\"white\",\"linecolor\":\"white\",\"ticks\":\"\"},\"caxis\":{\"gridcolor\":\"white\",\"linecolor\":\"white\",\"ticks\":\"\"}},\"coloraxis\":{\"colorbar\":{\"outlinewidth\":0,\"ticks\":\"\"}},\"colorscale\":{\"sequential\":[[0.0,\"#0d0887\"],[0.1111111111111111,\"#46039f\"],[0.2222222222222222,\"#7201a8\"],[0.3333333333333333,\"#9c179e\"],[0.4444444444444444,\"#bd3786\"],[0.5555555555555556,\"#d8576b\"],[0.6666666666666666,\"#ed7953\"],[0.7777777777777778,\"#fb9f3a\"],[0.8888888888888888,\"#fdca26\"],[1.0,\"#f0f921\"]],\"sequentialminus\":[[0.0,\"#0d0887\"],[0.1111111111111111,\"#46039f\"],[0.2222222222222222,\"#7201a8\"],[0.3333333333333333,\"#9c179e\"],[0.4444444444444444,\"#bd3786\"],[0.5555555555555556,\"#d8576b\"],[0.6666666666666666,\"#ed7953\"],[0.7777777777777778,\"#fb9f3a\"],[0.8888888888888888,\"#fdca26\"],[1.0,\"#f0f921\"]],\"diverging\":[[0,\"#8e0152\"],[0.1,\"#c51b7d\"],[0.2,\"#de77ae\"],[0.3,\"#f1b6da\"],[0.4,\"#fde0ef\"],[0.5,\"#f7f7f7\"],[0.6,\"#e6f5d0\"],[0.7,\"#b8e186\"],[0.8,\"#7fbc41\"],[0.9,\"#4d9221\"],[1,\"#276419\"]]},\"xaxis\":{\"gridcolor\":\"white\",\"linecolor\":\"white\",\"ticks\":\"\",\"title\":{\"standoff\":15},\"zerolinecolor\":\"white\",\"automargin\":true,\"zerolinewidth\":2},\"yaxis\":{\"gridcolor\":\"white\",\"linecolor\":\"white\",\"ticks\":\"\",\"title\":{\"standoff\":15},\"zerolinecolor\":\"white\",\"automargin\":true,\"zerolinewidth\":2},\"scene\":{\"xaxis\":{\"backgroundcolor\":\"#E5ECF6\",\"gridcolor\":\"white\",\"linecolor\":\"white\",\"showbackground\":true,\"ticks\":\"\",\"zerolinecolor\":\"white\",\"gridwidth\":2},\"yaxis\":{\"backgroundcolor\":\"#E5ECF6\",\"gridcolor\":\"white\",\"linecolor\":\"white\",\"showbackground\":true,\"ticks\":\"\",\"zerolinecolor\":\"white\",\"gridwidth\":2},\"zaxis\":{\"backgroundcolor\":\"#E5ECF6\",\"gridcolor\":\"white\",\"linecolor\":\"white\",\"showbackground\":true,\"ticks\":\"\",\"zerolinecolor\":\"white\",\"gridwidth\":2}},\"shapedefaults\":{\"line\":{\"color\":\"#2a3f5f\"}},\"annotationdefaults\":{\"arrowcolor\":\"#2a3f5f\",\"arrowhead\":0,\"arrowwidth\":1},\"geo\":{\"bgcolor\":\"white\",\"landcolor\":\"#E5ECF6\",\"subunitcolor\":\"white\",\"showland\":true,\"showlakes\":true,\"lakecolor\":\"white\"},\"title\":{\"x\":0.05},\"mapbox\":{\"style\":\"light\"}}},\"xaxis\":{\"anchor\":\"y\",\"domain\":[0.0,1.0],\"title\":{\"text\":\"time_var\"}},\"yaxis\":{\"anchor\":\"x\",\"domain\":[0.0,1.0],\"title\":{\"text\":\"new_ship\"}},\"legend\":{\"tracegroupgap\":0},\"title\":{\"text\":\"Winsorized\"}},                        {\"responsive\": true}                    ).then(function(){\n",
       "                            \n",
       "var gd = document.getElementById('774e39fe-2ac8-4aef-b60c-e646318ff9f1');\n",
       "var x = new MutationObserver(function (mutations, observer) {{\n",
       "        var display = window.getComputedStyle(gd).display;\n",
       "        if (!display || display === 'none') {{\n",
       "            console.log([gd, 'removed!']);\n",
       "            Plotly.purge(gd);\n",
       "            observer.disconnect();\n",
       "        }}\n",
       "}});\n",
       "\n",
       "// Listen for the removal of the full notebook cells\n",
       "var notebookContainer = gd.closest('#notebook-container');\n",
       "if (notebookContainer) {{\n",
       "    x.observe(notebookContainer, {childList: true});\n",
       "}}\n",
       "\n",
       "// Listen for the clearing of the current output cell\n",
       "var outputEl = gd.closest('.output');\n",
       "if (outputEl) {{\n",
       "    x.observe(outputEl, {childList: true});\n",
       "}}\n",
       "\n",
       "                        })                };                });            </script>        </div>"
      ]
     },
     "metadata": {},
     "output_type": "display_data"
    }
   ],
   "source": [
    "import plotly.express as px\n",
    "pp = df[df['prod_code'] == '1424_01']\n",
    "fig = px.line(pp, x=\"time_var\", y=\"shipments\", title='Original')\n",
    "fig1 = px.line(pp, x=\"time_var\", y=\"new_ship\", title='Winsorized')\n",
    "fig.show()\n",
    "fig1.show()"
   ]
  },
  {
   "cell_type": "code",
   "execution_count": null,
   "id": "e7432a5d-fb32-4ca1-851e-0e7ecc5e157f",
   "metadata": {},
   "outputs": [],
   "source": []
  }
 ],
 "metadata": {
  "kernelspec": {
   "display_name": "Python 3 (ipykernel)",
   "language": "python",
   "name": "python3"
  },
  "language_info": {
   "codemirror_mode": {
    "name": "ipython",
    "version": 3
   },
   "file_extension": ".py",
   "mimetype": "text/x-python",
   "name": "python",
   "nbconvert_exporter": "python",
   "pygments_lexer": "ipython3",
   "version": "3.10.13"
  }
 },
 "nbformat": 4,
 "nbformat_minor": 5
}
